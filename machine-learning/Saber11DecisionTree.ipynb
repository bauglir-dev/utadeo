{
  "nbformat": 4,
  "nbformat_minor": 0,
  "metadata": {
    "colab": {
      "name": "Saber11DecisionTree.ipynb",
      "provenance": [],
      "collapsed_sections": []
    },
    "kernelspec": {
      "name": "python3",
      "display_name": "Python 3"
    }
  },
  "cells": [
    {
      "cell_type": "code",
      "metadata": {
        "id": "xGgrAikANCVJ",
        "colab": {
          "base_uri": "https://localhost:8080/",
          "height": 206
        },
        "outputId": "b5040a8f-12a9-426f-beb8-0f5be4a11da7"
      },
      "source": [
        "import pandas as pd\n",
        "\n",
        "saber11 = pd.read_csv('https://docs.google.com/spreadsheets/d/e/2PACX-1vSFUNlBTSv2WlXvhWdNEycCeLqLEGooKhZxaVXdGqGvoLGnU5qIvjr_k7Z4QCE5aKs6JXFiNbGN6vDs/pub?gid=0&single=true&output=csv')\n",
        "\n",
        "saber11.head()\n"
      ],
      "execution_count": null,
      "outputs": [
        {
          "output_type": "execute_result",
          "data": {
            "text/html": [
              "<div>\n",
              "<style scoped>\n",
              "    .dataframe tbody tr th:only-of-type {\n",
              "        vertical-align: middle;\n",
              "    }\n",
              "\n",
              "    .dataframe tbody tr th {\n",
              "        vertical-align: top;\n",
              "    }\n",
              "\n",
              "    .dataframe thead th {\n",
              "        text-align: right;\n",
              "    }\n",
              "</style>\n",
              "<table border=\"1\" class=\"dataframe\">\n",
              "  <thead>\n",
              "    <tr style=\"text-align: right;\">\n",
              "      <th></th>\n",
              "      <th>Estudiante</th>\n",
              "      <th>Matematicas</th>\n",
              "      <th>Lenguaje</th>\n",
              "      <th>Fisica</th>\n",
              "      <th>Sociales</th>\n",
              "      <th>Biologia</th>\n",
              "      <th>Ciudadania</th>\n",
              "      <th>Profesional</th>\n",
              "    </tr>\n",
              "  </thead>\n",
              "  <tbody>\n",
              "    <tr>\n",
              "      <th>0</th>\n",
              "      <td>1001</td>\n",
              "      <td>60</td>\n",
              "      <td>65</td>\n",
              "      <td>60</td>\n",
              "      <td>72</td>\n",
              "      <td>81</td>\n",
              "      <td>83</td>\n",
              "      <td>SI</td>\n",
              "    </tr>\n",
              "    <tr>\n",
              "      <th>1</th>\n",
              "      <td>1002</td>\n",
              "      <td>31</td>\n",
              "      <td>47</td>\n",
              "      <td>36</td>\n",
              "      <td>44</td>\n",
              "      <td>98</td>\n",
              "      <td>81</td>\n",
              "      <td>SI</td>\n",
              "    </tr>\n",
              "    <tr>\n",
              "      <th>2</th>\n",
              "      <td>1003</td>\n",
              "      <td>39</td>\n",
              "      <td>56</td>\n",
              "      <td>42</td>\n",
              "      <td>53</td>\n",
              "      <td>88</td>\n",
              "      <td>82</td>\n",
              "      <td>NO</td>\n",
              "    </tr>\n",
              "    <tr>\n",
              "      <th>3</th>\n",
              "      <td>1004</td>\n",
              "      <td>35</td>\n",
              "      <td>51</td>\n",
              "      <td>33</td>\n",
              "      <td>61</td>\n",
              "      <td>90</td>\n",
              "      <td>81</td>\n",
              "      <td>NO</td>\n",
              "    </tr>\n",
              "    <tr>\n",
              "      <th>4</th>\n",
              "      <td>1005</td>\n",
              "      <td>45</td>\n",
              "      <td>57</td>\n",
              "      <td>44</td>\n",
              "      <td>60</td>\n",
              "      <td>98</td>\n",
              "      <td>80</td>\n",
              "      <td>SI</td>\n",
              "    </tr>\n",
              "  </tbody>\n",
              "</table>\n",
              "</div>"
            ],
            "text/plain": [
              "   Estudiante  Matematicas  Lenguaje  ...  Biologia  Ciudadania  Profesional\n",
              "0        1001           60        65  ...        81          83           SI\n",
              "1        1002           31        47  ...        98          81           SI\n",
              "2        1003           39        56  ...        88          82           NO\n",
              "3        1004           35        51  ...        90          81           NO\n",
              "4        1005           45        57  ...        98          80           SI\n",
              "\n",
              "[5 rows x 8 columns]"
            ]
          },
          "metadata": {
            "tags": []
          },
          "execution_count": 1
        }
      ]
    },
    {
      "cell_type": "code",
      "metadata": {
        "id": "I6YmaHtvNZjQ",
        "colab": {
          "base_uri": "https://localhost:8080/",
          "height": 183
        },
        "outputId": "9b2466f7-7225-4238-b480-75e5544cc2a7"
      },
      "source": [
        "from sklearn.feature_selection import SelectKBest, chi2\n",
        "\n",
        "saber11.drop(['Estudiante'], axis=1, inplace=True)\n",
        "\n",
        "y = saber11['Profesional']\n",
        "x = saber11.drop(['Profesional'], axis=1)\n",
        "\n",
        "selector = SelectKBest(chi2, k=3)\n",
        "selector.fit(x, y)\n",
        "\n",
        "#Set X_new column names\n",
        "cols = selector.get_support(indices=True)\n",
        "X_new = x.iloc[:,cols]\n",
        "\n",
        "#Set y column names\n",
        "y = pd.DataFrame(y)\n",
        "y.columns = ['Profesional']\n",
        "\n",
        "print(\"\\nSelected Attributes:\\n\")\n",
        "print(X_new[:5])\n"
      ],
      "execution_count": null,
      "outputs": [
        {
          "output_type": "stream",
          "text": [
            "\n",
            "Selected Attributes:\n",
            "\n",
            "   Lenguaje  Sociales  Biologia\n",
            "0        65        72        81\n",
            "1        47        44        98\n",
            "2        56        53        88\n",
            "3        51        61        90\n",
            "4        57        60        98\n"
          ],
          "name": "stdout"
        }
      ]
    },
    {
      "cell_type": "code",
      "metadata": {
        "id": "fVhEzqJAN7F0",
        "colab": {
          "base_uri": "https://localhost:8080/",
          "height": 72
        },
        "outputId": "f60e3c47-cf1a-4a88-883a-3af251a30d32"
      },
      "source": [
        "from sklearn import tree\n",
        "\n",
        "clf = tree.DecisionTreeClassifier()\n",
        "clf = clf.fit(X_new, y)\n",
        "\n",
        "X_test = [[65,72,81], [10,10,10], [45,45,52]]\n",
        "X_pred = clf.predict(X_test)\n",
        "\n",
        "print(\"\\Predictions:\\n\")\n",
        "print(str(X_test) + \"==>\" + str(X_pred))\n"
      ],
      "execution_count": null,
      "outputs": [
        {
          "output_type": "stream",
          "text": [
            "\\Predictions:\n",
            "\n",
            "[[65, 72, 81], [10, 10, 10], [45, 45, 52]]==>['SI' 'NO' 'NO']\n"
          ],
          "name": "stdout"
        }
      ]
    },
    {
      "cell_type": "code",
      "metadata": {
        "id": "-4A_i9BkONP5",
        "colab": {
          "base_uri": "https://localhost:8080/",
          "height": 608
        },
        "outputId": "d0f498d0-dcf0-4136-d3b4-50fe5f874f79"
      },
      "source": [
        "import graphviz \n",
        "\n",
        "try:\n",
        "  dot_data = tree.export_graphviz(clf, out_file=None, feature_names=X_new.columns,filled=True) \n",
        "  graph = graphviz.Source(dot_data) \n",
        "  #graph.render(\"sab_11_tree.dot\") #to a file\n",
        "  print(graph.source)\n",
        "except Exception as e:\n",
        "  print(str(e))\n",
        "\n",
        "#Plot tree: http://webgraphviz.com/\n"
      ],
      "execution_count": null,
      "outputs": [
        {
          "output_type": "stream",
          "text": [
            "digraph Tree {\n",
            "node [shape=box, style=\"filled\", color=\"black\"] ;\n",
            "0 [label=\"Lenguaje <= 53.5\\ngini = 0.385\\nsamples = 50\\nvalue = [13, 37]\", fillcolor=\"#7fbfee\"] ;\n",
            "1 [label=\"Biologia <= 96.0\\ngini = 0.26\\nsamples = 13\\nvalue = [11, 2]\", fillcolor=\"#ea985d\"] ;\n",
            "0 -> 1 [labeldistance=2.5, labelangle=45, headlabel=\"True\"] ;\n",
            "2 [label=\"Sociales <= 46.0\\ngini = 0.153\\nsamples = 12\\nvalue = [11, 1]\", fillcolor=\"#e78c4b\"] ;\n",
            "1 -> 2 ;\n",
            "3 [label=\"Biologia <= 68.5\\ngini = 0.444\\nsamples = 3\\nvalue = [2, 1]\", fillcolor=\"#f2c09c\"] ;\n",
            "2 -> 3 ;\n",
            "4 [label=\"gini = 0.0\\nsamples = 2\\nvalue = [2, 0]\", fillcolor=\"#e58139\"] ;\n",
            "3 -> 4 ;\n",
            "5 [label=\"gini = 0.0\\nsamples = 1\\nvalue = [0, 1]\", fillcolor=\"#399de5\"] ;\n",
            "3 -> 5 ;\n",
            "6 [label=\"gini = 0.0\\nsamples = 9\\nvalue = [9, 0]\", fillcolor=\"#e58139\"] ;\n",
            "2 -> 6 ;\n",
            "7 [label=\"gini = 0.0\\nsamples = 1\\nvalue = [0, 1]\", fillcolor=\"#399de5\"] ;\n",
            "1 -> 7 ;\n",
            "8 [label=\"Sociales <= 53.5\\ngini = 0.102\\nsamples = 37\\nvalue = [2, 35]\", fillcolor=\"#44a3e6\"] ;\n",
            "0 -> 8 [labeldistance=2.5, labelangle=-45, headlabel=\"False\"] ;\n",
            "9 [label=\"gini = 0.0\\nsamples = 1\\nvalue = [1, 0]\", fillcolor=\"#e58139\"] ;\n",
            "8 -> 9 ;\n",
            "10 [label=\"Biologia <= 70.0\\ngini = 0.054\\nsamples = 36\\nvalue = [1, 35]\", fillcolor=\"#3fa0e6\"] ;\n",
            "8 -> 10 ;\n",
            "11 [label=\"Lenguaje <= 59.0\\ngini = 0.32\\nsamples = 5\\nvalue = [1, 4]\", fillcolor=\"#6ab6ec\"] ;\n",
            "10 -> 11 ;\n",
            "12 [label=\"gini = 0.0\\nsamples = 1\\nvalue = [1, 0]\", fillcolor=\"#e58139\"] ;\n",
            "11 -> 12 ;\n",
            "13 [label=\"gini = 0.0\\nsamples = 4\\nvalue = [0, 4]\", fillcolor=\"#399de5\"] ;\n",
            "11 -> 13 ;\n",
            "14 [label=\"gini = 0.0\\nsamples = 31\\nvalue = [0, 31]\", fillcolor=\"#399de5\"] ;\n",
            "10 -> 14 ;\n",
            "}\n"
          ],
          "name": "stdout"
        }
      ]
    }
  ]
}