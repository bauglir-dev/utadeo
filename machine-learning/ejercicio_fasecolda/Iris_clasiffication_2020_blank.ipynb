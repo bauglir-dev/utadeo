{
  "nbformat": 4,
  "nbformat_minor": 0,
  "metadata": {
    "colab": {
      "name": "Iris_clasiffication_2020_blank.ipynb",
      "provenance": [],
      "collapsed_sections": []
    },
    "kernelspec": {
      "display_name": "Python 3",
      "language": "python",
      "name": "python3"
    }
  },
  "cells": [
    {
      "cell_type": "code",
      "metadata": {
        "id": "M6npwLt4pbGw",
        "colab_type": "code",
        "colab": {}
      },
      "source": [
        "import pandas as pd\n",
        "import numpy as np\n",
        "from matplotlib import pyplot as plt\n",
        "from IPython.display import display, HTML\n",
        "import matplotlib\n",
        "matplotlib.rcParams.update({'font.size': 12})\n",
        "from sklearn import svm, datasets\n",
        "from sklearn.model_selection import train_test_split\n",
        "from sklearn.metrics import classification_report\n"
      ],
      "execution_count": 0,
      "outputs": []
    },
    {
      "cell_type": "markdown",
      "metadata": {
        "collapsed": true,
        "id": "JWK6I16_4wp7",
        "colab_type": "text"
      },
      "source": [
        "#  Linear Regression\n",
        "\n",
        "\n",
        "## Exercise \n",
        "\n",
        "This is perhaps the best known database to be found in the pattern recognition literature. Fisher's paper is a classic in the field and is referenced frequently to this day. (See Duda & Hart, for example.) The data set contains 3 classes of 50 instances each, where each class refers to a type of iris plant. One class is linearly separable from the other 2; the latter are NOT linearly separable from each other.\n",
        "\n",
        "Predicted attribute: class of iris plant.\n",
        "[UCI Machine Learning Repository](https://archive.ics.uci.edu/ml/datasets/Iris)\n",
        "\n",
        "\n",
        "\n",
        "\n",
        "\n",
        "\n",
        "\n",
        "\n"
      ]
    },
    {
      "cell_type": "markdown",
      "metadata": {
        "id": "bxrdul7J15v8",
        "colab_type": "text"
      },
      "source": [
        "### Understanding Data\n",
        "\n",
        "Attribute Information:\n",
        "\n",
        "1. sepal length in cm\n",
        "2. sepal width in cm\n",
        "3. petal length in cm\n",
        "4. petal width in cm\n",
        "5. class:\n",
        "    - Iris Setosa\n",
        "    - Iris Versicolour\n",
        "    - Iris Virginica\n",
        "\n",
        "Descriptive analytics\n",
        "\n",
        "- What questions would you ask to understand the data?\n",
        "- What visualization tools to use?"
      ]
    },
    {
      "cell_type": "code",
      "metadata": {
        "id": "b_97qoUWkLte",
        "colab_type": "code",
        "colab": {}
      },
      "source": [
        "# import some data to play with\n",
        "iris = datasets.load_iris()\n",
        "print(iris.data.shape) #get (numer of rows, number of columns or 'features')\n",
        "print(iris.DESCR) #get a description of the dataset"
      ],
      "execution_count": 0,
      "outputs": []
    },
    {
      "cell_type": "code",
      "metadata": {
        "id": "OcAjwW9vzCvp",
        "colab_type": "code",
        "colab": {}
      },
      "source": [
        "#Using pandas\n",
        "iris_df=pd.DataFrame(iris.data,columns=iris.feature_names)\n",
        "iris_df['class']=iris.target\n",
        "iris_df.plot.box(figsize=(20,10))\n",
        "iris_df.describe(include='all')"
      ],
      "execution_count": 0,
      "outputs": []
    },
    {
      "cell_type": "markdown",
      "metadata": {
        "id": "d8SVLsT_g4vY",
        "colab_type": "text"
      },
      "source": [
        "### Preparing the data\n",
        "\n"
      ]
    },
    {
      "cell_type": "code",
      "metadata": {
        "id": "v2bUqh9Vg4Dh",
        "colab_type": "code",
        "colab": {}
      },
      "source": [
        "# Normalize the data???\n",
        "X = iris.data[:, :2] # solo tomemos las dos primeras entradas para este ejemplo visual \n",
        "y = iris.target"
      ],
      "execution_count": 0,
      "outputs": []
    },
    {
      "cell_type": "markdown",
      "metadata": {
        "id": "8fYJ96VUyKpj",
        "colab_type": "text"
      },
      "source": [
        "#### Split training and text data\n",
        "\n",
        "Learning the parameters of a prediction function and testing it on the same data is a methodological mistake: a model that would just repeat the labels of the samples that it has just seen would have a perfect score but would fail to predict anything useful on yet-unseen data. This situation is called overfitting. To avoid it, it is common practice when performing a (supervised) machine learning experiment to hold out part of the available data as a test set X_test, y_test. Note that the word “experiment” is not intended to denote academic use only, because even in commercial settings machine learning usually starts out experimentally."
      ]
    },
    {
      "cell_type": "code",
      "metadata": {
        "id": "W2gK7DuPwJ58",
        "colab_type": "code",
        "colab": {}
      },
      "source": [
        "X_train, X_test, y_train, y_test = train_test_split(\n",
        "    X, y, test_size=0.3, random_state=0)"
      ],
      "execution_count": 0,
      "outputs": []
    },
    {
      "cell_type": "markdown",
      "metadata": {
        "id": "gfB6jO5ByV80",
        "colab_type": "text"
      },
      "source": [
        "### Modeling\n",
        "\n",
        "#### Train the model\n",
        "\n",
        "Train the models consist in  make  the optimization to obtain the long memory paramters of the model."
      ]
    },
    {
      "cell_type": "code",
      "metadata": {
        "id": "JXRybOtixmsV",
        "colab_type": "code",
        "colab": {}
      },
      "source": [
        "# Create linear regressor object (in an array to train all)\n",
        "models = [svm.SVC(kernel='linear', C=1,gamma=0.1)]\n",
        "\n",
        "for model in models:\n",
        "  model.fit(X_train, y_train)\n",
        "  # The coefficients\n",
        "  print( model.get_params())\n",
        "  print('Intercept',model.intercept_)\n",
        "  print('Coeff',model.coef_)\n",
        "\n"
      ],
      "execution_count": 0,
      "outputs": []
    },
    {
      "cell_type": "markdown",
      "metadata": {
        "id": "o-zXy7ydFvSI",
        "colab_type": "text"
      },
      "source": [
        "Understanding Classification\n",
        "\n",
        "**Not is a result only a way to understand classification**\n",
        "\n",
        "Never conclude over the train data"
      ]
    },
    {
      "cell_type": "code",
      "metadata": {
        "id": "3Rfy_9bO1hN1",
        "colab_type": "code",
        "colab": {}
      },
      "source": [
        "'''\n",
        "@param X  es usado para obtener el max y minimo valor para hacer la grilla\n",
        "@param y solo es usado para comparar \n",
        "'''\n",
        "def visual(svc,X,y,title):\n",
        "  # create a mesh to plot in\n",
        "  x_min, x_max = X[:, 0].min() - 1, X[:, 0].max() + 1\n",
        "  y_min, y_max = X[:, 1].min() - 1, X[:, 1].max() + 1\n",
        "  h = (x_max / x_min)/100\n",
        "  xx, yy = np.meshgrid(np.arange(x_min, x_max, h),\n",
        "  np.arange(y_min, y_max, h))\n",
        "  plt.subplot(1, 1, 1)\n",
        "  Z = svc.predict(np.c_[xx.ravel(), yy.ravel()])\n",
        "  Z = Z.reshape(xx.shape)\n",
        "  plt.contourf(xx, yy, Z, cmap=plt.cm.Paired, alpha=0.8)\n",
        "  ##plot the data\n",
        "  plt.scatter(X[:, 0], X[:, 1], c=y, cmap=plt.cm.Paired)\n",
        "  plt.xlabel('Sepal length')\n",
        "  plt.ylabel('Sepal width')\n",
        "  plt.xlim(xx.min(), xx.max())\n",
        "  plt.title(title)\n",
        "  plt.show()"
      ],
      "execution_count": 0,
      "outputs": []
    },
    {
      "cell_type": "code",
      "metadata": {
        "id": "XkZ7AwcH1kDb",
        "colab_type": "code",
        "colab": {}
      },
      "source": [
        "for model in models:\n",
        "    visual(model,X_train,y_train,'SVC with linear kernel')\n",
        "    print(classification_report(y_test, model.predict(X_test), target_names=iris.target_names))"
      ],
      "execution_count": 0,
      "outputs": []
    },
    {
      "cell_type": "markdown",
      "metadata": {
        "id": "AdUFbMvdsHBL",
        "colab_type": "text"
      },
      "source": [
        "## Hyperparameters\n",
        "\n",
        "Los hiperparámetros son parámetros que no se aprenden directamente dentro de los estimadores. \n",
        "En scikit-learn se pasan como argumentos al constructor de las clases de estimador.\n",
        "\n",
        "Para esto existen dos enfoques genéricos en scikit ([Tuning the hyper-parameters of an estimator](https://scikit-learn.org/stable/modules/grid_search.html))   para muestrear candidatos de búsqueda: para valores dados, [GridSearchCV](https://scikit-learn.org/stable/modules/generated/sklearn.model_selection.GridSearchCV.html#sklearn.model_selection.GridSearchCV) considera exhaustivamente todas las combinaciones de parámetros, mientras que [RandomizedSearchCV](https://scikit-learn.org/stable/modules/generated/sklearn.model_selection.GridSearchCV.html#sklearn.model_selection.GridSearchCV) puede muestrear un número dado de candidatos de un espacio de parámetros con una distribución específica.\n",
        "\n",
        "Para probar cual hyperparametro es mejor debemos hacer cross_validation con algun metodo de dividir los datos de *train* , por ejemplo *k-folds* , y decidrile sobre que [score](https://scikit-learn.org/stable/modules/model_evaluation.html#scoring-parameter) que queremos trabajar (recall, precision,f1,....).  "
      ]
    },
    {
      "cell_type": "markdown",
      "metadata": {
        "id": "0dKX5-VwCo9k",
        "colab_type": "text"
      },
      "source": [
        "Hyper-parameters are parameters that are not directly learnt within estimators. In scikit-learn they are passed as arguments to the constructor of the estimator classes. Typical examples include gamma for Ridge, alpha for Lasso, etc.  It is possible and recommended to search the hyper-parameter space for the best cross validation score.\n",
        "\n",
        "Any parameter provided when constructing an estimator may be optimized in this manner. Specifically, to find the names and current values for all parameters for a given estimator, use:\n",
        "\n",
        "estimator.get_params()\n",
        "\n",
        "Two generic approaches to sampling search candidates are provided in scikit-learn: for given values, [GridSearchCV](https://scikit-learn.org/stable/modules/generated/sklearn.model_selection.GridSearchCV.html#sklearn.model_selection.GridSearchCV) exhaustively considers all parameter combinations, while [RandomizedSearchCV](https://scikit-learn.org/stable/modules/generated/sklearn.model_selection.RandomizedSearchCV.html#sklearn.model_selection.RandomizedSearchCV) can sample a given number of candidates from a parameter space with a specified distribution.\n",
        "\n",
        "[More information](https://scikit-learn.org/stable/modules/grid_search.html)"
      ]
    },
    {
      "cell_type": "code",
      "metadata": {
        "id": "eMi2iioer25q",
        "colab_type": "code",
        "colab": {}
      },
      "source": [
        "\n",
        "import warnings\n",
        "warnings.filterwarnings('ignore') \n",
        "from sklearn.model_selection import GridSearchCV\n",
        "\n",
        "\n",
        "# Set the parameters by cross-validation\n",
        "tuned_parameters = [{'kernel': ['rbf'], 'gamma': [0.1,1e-3, 1e-4],\n",
        "                     'C': [1, 10, 100, 1000,10000]},\n",
        "                    {'kernel': ['linear'], 'C': [1, 10, 100, 1000]},\n",
        "                    {'kernel': ['poly'],'degree':[3,5,7], 'C': [1, 10, 100, 1000],'gamma': [1e-3]}\n",
        "                   ]\n",
        "\n",
        "scores = ['precision' ] #, 'recall','f1' \n",
        "\n",
        "for score in scores:\n",
        "    print(\"# Tuning hyper-parameters for %s\" % score)\n",
        "    clf = GridSearchCV(svm.SVC(), tuned_parameters, cv=5,\n",
        "                       scoring='%s_macro' % score)\n",
        "    clf.fit(X_train, y_train)\n",
        "    print(\"Best parameters set found on development set:\")\n",
        "    print(clf.best_params_)\n",
        "    print(\"Grid scores on development set:\")\n",
        "    means = clf.cv_results_['mean_test_score']\n",
        "    stds = clf.cv_results_['std_test_score']\n",
        "    for mean, std, params in zip(means, stds, clf.cv_results_['params']):\n",
        "        print(\"%0.3f (+/-%0.03f) for %r\"\n",
        "              % (mean, std * 2, params))\n",
        "\n",
        "\n",
        "    "
      ],
      "execution_count": 0,
      "outputs": []
    },
    {
      "cell_type": "markdown",
      "metadata": {
        "id": "y8qPwbu5HJhL",
        "colab_type": "text"
      },
      "source": [
        "## Exercise \n",
        "\n",
        "- Try to compare with different classificators\n",
        "\n",
        "- Use the four input variables to classification\n"
      ]
    },
    {
      "cell_type": "markdown",
      "metadata": {
        "id": "eYWTnue2yaU-",
        "colab_type": "text"
      },
      "source": [
        "### Test the Model\n",
        "\n",
        "Can we generalize our model to work good with other data?"
      ]
    },
    {
      "cell_type": "code",
      "metadata": {
        "id": "kYMgc9rEx7_R",
        "colab_type": "code",
        "colab": {}
      },
      "source": [
        "from sklearn.metrics import accuracy_score,median_absolute_error\n",
        "from sklearn.metrics import mean_squared_error, mean_absolute_error\n",
        "from sklearn.metrics import r2_score,mean_squared_log_error,explained_variance_score\n",
        "\n",
        "\n",
        "y_true, y_pred = y_test, clf.predict(X_test)\n",
        "print(classification_report(y_true, y_pred))\n",
        "visual(clf,X,y,'Best model')"
      ],
      "execution_count": 0,
      "outputs": []
    },
    {
      "cell_type": "markdown",
      "metadata": {
        "id": "qjrdArTyy7Wj",
        "colab_type": "text"
      },
      "source": [
        "### Implementation\n",
        "\n",
        "\n",
        "How it is going to work inside the process and organization?"
      ]
    },
    {
      "cell_type": "code",
      "metadata": {
        "id": "hPxNDlH3y-Z1",
        "colab_type": "code",
        "colab": {}
      },
      "source": [
        "\n"
      ],
      "execution_count": 0,
      "outputs": []
    },
    {
      "cell_type": "markdown",
      "metadata": {
        "id": "EQsLLexCHb_d",
        "colab_type": "text"
      },
      "source": [
        "## Ejercicio (Base de datos Fasecolda)\n",
        "\n",
        "A partir de la comprensión inicial de los datos de Fasecolda (ejercicio 1)\n",
        "\n",
        "- - ¿cuales serian las mejores variables de entrada para hacer clasificacion y porque?\n",
        "- ¿Que otras fuentes de información utilizaría para para mejorar la predicción realizada?\n",
        "\n",
        "- Que transformaciones requiere realizar sobre los datos\n",
        "\n",
        "- Que ejercicio de clasificacion realizaria con los datos de los vehiculos presentados por Fasecolda?\n",
        "\n",
        "\n",
        "- ¿que técnicas de visualización o muestra de resultados aplicaría?\n",
        "\n",
        "\n",
        "\n",
        "\n",
        "\n",
        "\n",
        "\n",
        "\n"
      ]
    },
    {
      "cell_type": "code",
      "metadata": {
        "id": "b53rncTcHfLt",
        "colab_type": "code",
        "colab": {}
      },
      "source": [
        "# Load CSV using Pandas from URL\n",
        "import pandas as pd\n",
        "from IPython.display import display, HTML\n",
        "from sklearn import preprocessing\n",
        "from sklearn.naive_bayes import GaussianNB\n",
        "\n",
        "data = pd.read_csv('guia_fasecolda.csv')"
      ],
      "execution_count": 0,
      "outputs": []
    },
    {
      "cell_type": "markdown",
      "metadata": {
        "id": "Au2IvAlaL8_k",
        "colab_type": "text"
      },
      "source": [
        "## Presente sus conclusiones sobre clasificadores\n",
        "\n",
        "\n",
        "Se recomienda subir el notebook a github\n"
      ]
    }
  ]
}