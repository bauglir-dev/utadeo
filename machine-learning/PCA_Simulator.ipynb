{
  "nbformat": 4,
  "nbformat_minor": 0,
  "metadata": {
    "colab": {
      "name": "PCA_Simulator.ipynb",
      "provenance": [],
      "collapsed_sections": []
    },
    "kernelspec": {
      "name": "python3",
      "display_name": "Python 3"
    }
  },
  "cells": [
    {
      "cell_type": "markdown",
      "metadata": {
        "id": "XIo9A78QOztV"
      },
      "source": [
        "**Step 1: Generate two attributes: A and B. A and B have a \"hide\" linear dependence**"
      ]
    },
    {
      "cell_type": "code",
      "metadata": {
        "id": "0ZC_XifzjkI0",
        "colab": {
          "base_uri": "https://localhost:8080/",
          "height": 463
        },
        "outputId": "e418f28b-115f-4ded-a9b6-36536735cae9"
      },
      "source": [
        "import pandas as pd\n",
        "import numpy as np\n",
        "import matplotlib.pyplot as plt\n",
        "\n",
        "#Dataset with 2 attributes\n",
        "df = pd.DataFrame(columns=['A', 'B'])\n",
        "\n",
        "#B = mA + b + noise\n",
        "m = 2\n",
        "b = 5\n",
        "noise =100\n",
        "\n",
        "#Generate 100 (A,B) points\n",
        "for i in range(100):\n",
        "  x = np.random.uniform(0, 100)\n",
        "  df = df.append({'A': x, 'B': m*x + b + np.random.uniform(-noise, noise)}, ignore_index=True)\n",
        "    \n",
        "print(\"\\nDataset:\\n\")\n",
        "print(df.head(5))\n",
        "\n",
        "'''\n",
        "from sklearn.preprocessing import StandardScaler\n",
        "df = StandardScaler().fit_transform(df)\n",
        "df = pd.DataFrame(df, columns=['A', 'B'])\n",
        "'''\n",
        "\n",
        "# Plot dataset\n",
        "plt.scatter(df['A'], df['B'])\n",
        "plt.title(\"Dataset\")\n",
        "plt.grid(True)\n",
        "plt.axis('equal');\n",
        "plt.tight_layout()\n",
        "plt.show()\n",
        "\n"
      ],
      "execution_count": null,
      "outputs": [
        {
          "output_type": "stream",
          "text": [
            "\n",
            "Dataset:\n",
            "\n",
            "           A           B\n",
            "0  22.335837   68.421444\n",
            "1  61.952356  141.750629\n",
            "2  42.823683   69.561654\n",
            "3  60.783704  129.175067\n",
            "4  46.019744   63.441237\n"
          ],
          "name": "stdout"
        },
        {
          "output_type": "display_data",
          "data": {
            "image/png": "[encoded data removed]",
            "text/plain": [
              "<Figure size 432x288 with 1 Axes>"
            ]
          },
          "metadata": {
            "tags": [],
            "needs_background": "light"
          }
        }
      ]
    },
    {
      "cell_type": "markdown",
      "metadata": {
        "id": "3u6mLfixPOg-"
      },
      "source": [
        "**Step 2: Using PCA**"
      ]
    },
    {
      "cell_type": "code",
      "metadata": {
        "id": "MaOQKt5jptIl",
        "colab": {
          "base_uri": "https://localhost:8080/",
          "height": 183
        },
        "outputId": "6b39d38b-28ff-4793-d901-39779393e319"
      },
      "source": [
        "from sklearn.decomposition import PCA\n",
        "pca = PCA(n_components=2)\n",
        "pca.fit(df)\n",
        "\n",
        "print(\"\\nPrincipal components:\\n\")\n",
        "print(pca.components_)\n",
        "\n",
        "print(\"\\nExplained Variance:\\n\")\n",
        "print(pca.explained_variance_)"
      ],
      "execution_count": null,
      "outputs": [
        {
          "output_type": "stream",
          "text": [
            "\n",
            "Principal components:\n",
            "\n",
            "[[-0.24609269 -0.9692463 ]\n",
            " [ 0.9692463  -0.24609269]]\n",
            "\n",
            "Explained Variance:\n",
            "\n",
            "[6509.09954596  304.63995172]\n"
          ],
          "name": "stdout"
        }
      ]
    },
    {
      "cell_type": "markdown",
      "metadata": {
        "id": "ZAxF7b9ZP-2w"
      },
      "source": [
        "**Step 3: Plot Principal Components**"
      ]
    },
    {
      "cell_type": "code",
      "metadata": {
        "id": "NOvmvGSeqQui",
        "colab": {
          "base_uri": "https://localhost:8080/",
          "height": 281
        },
        "outputId": "f4e272c6-6ed9-42b4-fe46-759fae6bd0e8"
      },
      "source": [
        "def drawPrincipalComponent(v0, v1, ax=None):\n",
        "    ax = ax or plt.gca()\n",
        "    arrowprops=dict(arrowstyle='->',\n",
        "                    linewidth=2,\n",
        "                    shrinkA=0, shrinkB=0)\n",
        "    ax.annotate('', v1, v0, arrowprops=arrowprops)\n",
        "\n",
        "# plot data\n",
        "plt.scatter(df['A'], df['B'], alpha=0.2)\n",
        "\n",
        "for length, vector in zip(pca.explained_variance_ , pca.components_):\n",
        "    v = vector * 2 * np.sqrt(length)\n",
        "    drawPrincipalComponent(pca.mean_, pca.mean_ + v)\n",
        "\n",
        "plt.grid()   \n",
        "plt.title(\"Principal Components\") \n",
        "plt.axis('equal');"
      ],
      "execution_count": null,
      "outputs": [
        {
          "output_type": "display_data",
          "data": {
            "image/png": "[encoded data removed]",
            "text/plain": [
              "<Figure size 432x288 with 1 Axes>"
            ]
          },
          "metadata": {
            "tags": [],
            "needs_background": "light"
          }
        }
      ]
    },
    {
      "cell_type": "markdown",
      "metadata": {
        "id": "q1WjuzAqYwyP"
      },
      "source": [
        "**Step 4: Original Data vs. Projected Data**"
      ]
    },
    {
      "cell_type": "code",
      "metadata": {
        "id": "rDxjZ9s16GMb",
        "colab": {
          "base_uri": "https://localhost:8080/",
          "height": 930
        },
        "outputId": "42be10b7-d046-483a-b458-53dd26d6b5fe"
      },
      "source": [
        "print(\"\\nOriginal Dataset:\\n\")\n",
        "print(df.head())\n",
        "\n",
        "print(\"\\nCentered Dataset:\\n\")\n",
        "df2=df-df.mean()\n",
        "print(df2.head())\n",
        "\n",
        "print(\"\\nNew Dataset (after PCA transformation from centered dataset):\\n\")\n",
        "df_pca = pca.transform(df)\n",
        "print(df_pca[:5])\n",
        "\n",
        "print(\"\\nInverse PCA transformation:\\n\")\n",
        "X_new = pca.inverse_transform(df_pca)\n",
        "print(X_new[:5])\n",
        "\n",
        "print(\"\\n\")\n",
        "plt.scatter(df['A'], df['B'], alpha=0.4)\n",
        "plt.scatter(X_new[:, 0], X_new[:, 1], alpha=0.8)\n",
        "plt.grid()   \n",
        "#plt.axis('equal');\n"
      ],
      "execution_count": null,
      "outputs": [
        {
          "output_type": "stream",
          "text": [
            "\n",
            "Original Dataset:\n",
            "\n",
            "           A           B\n",
            "0  22.335837   68.421444\n",
            "1  61.952356  141.750629\n",
            "2  42.823683   69.561654\n",
            "3  60.783704  129.175067\n",
            "4  46.019744   63.441237\n",
            "\n",
            "Centered Dataset:\n",
            "\n",
            "           A          B\n",
            "0 -27.102415 -36.047915\n",
            "1  12.514104  37.281269\n",
            "2  -6.614569 -34.907706\n",
            "3  11.345452  24.705708\n",
            "4  -3.418508 -41.028122\n",
            "\n",
            "New Dataset (after PCA transformation from centered dataset):\n",
            "\n",
            "[[ 41.60901453 -17.39778686]\n",
            " [-39.21436203   2.9546015 ]\n",
            " [ 35.46196143   2.17938477]\n",
            " [-26.73794891   4.91664365]\n",
            " [ 40.60762489   6.78334468]]\n",
            "\n",
            "Inverse PCA transformation:\n",
            "\n",
            "[[ 22.3358369   68.42144396]\n",
            " [ 61.95235606 141.7506286 ]\n",
            " [ 42.82368288  69.56165362]\n",
            " [ 60.7837041  129.17506713]\n",
            " [ 46.01974382  63.44123749]]\n",
            "\n",
            "\n"
          ],
          "name": "stdout"
        },
        {
          "output_type": "display_data",
          "data": {
            "image/png": "[encoded data removed]",
            "text/plain": [
              "<Figure size 432x288 with 1 Axes>"
            ]
          },
          "metadata": {
            "tags": [],
            "needs_background": "light"
          }
        }
      ]
    },
    {
      "cell_type": "markdown",
      "metadata": {
        "id": "RBKtTTEiYrD_"
      },
      "source": [
        "**PCA: Covariance Matrix and Eingenvalues and Eigenvectors**"
      ]
    },
    {
      "cell_type": "code",
      "metadata": {
        "id": "6Ne8i3CiYrY9",
        "colab": {
          "base_uri": "https://localhost:8080/",
          "height": 294
        },
        "outputId": "424337f7-9ddc-4aee-d89b-88ed7c2e8fe9"
      },
      "source": [
        "from numpy import linalg as LA\n",
        "\n",
        "df2=df-df.mean() #Center data\n",
        "\n",
        "#Covariance Matrix\n",
        "CovM = df2.cov()\n",
        "print(\"\\nCovariance Matrix: \\n\")\n",
        "print(CovM)\n",
        "\n",
        "#Eigenvalues and Eigenvectors\n",
        "evalue, evector = LA.eig(CovM)\n",
        "\n",
        "print(\"\\nEigenvectors: \\n\")\n",
        "print(evector)\n",
        "\n",
        "print(\"\\nEigenvalues: \\n\")\n",
        "print(evalue)\n"
      ],
      "execution_count": null,
      "outputs": [
        {
          "output_type": "stream",
          "text": [
            "\n",
            "Covariance Matrix: \n",
            "\n",
            "             A            B\n",
            "A   680.392023  1479.915175\n",
            "B  1479.915175  6133.347474\n",
            "\n",
            "Eigenvectors: \n",
            "\n",
            "[[-0.9692463  -0.24609269]\n",
            " [ 0.24609269 -0.9692463 ]]\n",
            "\n",
            "Eigenvalues: \n",
            "\n",
            "[ 304.63995172 6509.09954596]\n"
          ],
          "name": "stdout"
        }
      ]
    }
  ]
}