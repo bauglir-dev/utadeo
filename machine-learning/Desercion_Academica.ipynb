{
  "nbformat": 4,
  "nbformat_minor": 0,
  "metadata": {
    "colab": {
      "name": "Desercion_Academica.ipynb",
      "provenance": [],
      "collapsed_sections": []
    },
    "kernelspec": {
      "name": "python3",
      "display_name": "Python 3"
    }
  },
  "cells": [
    {
      "cell_type": "markdown",
      "metadata": {
        "id": "jTyY7QlxfB7C"
      },
      "source": [
        "**1. Load Dataset**"
      ]
    },
    {
      "cell_type": "code",
      "metadata": {
        "id": "ZrYvrrxkyMtM",
        "colab": {
          "base_uri": "https://localhost:8080/",
          "height": 215
        },
        "outputId": "8b866380-99b7-4c58-96ee-7cacf5477811"
      },
      "source": [
        "#Pandas: Dataset library\n",
        "import pandas as pd\n",
        "\n",
        "#Read dataset\n",
        "deser_ds = pd.read_csv(\"https://docs.google.com/spreadsheets/d/e/2PACX-1vSylhACMKjuLcz9M7DPkYkAALJMACaSsryKpfbL3IY149_8tfVi0z61Dcg4M267ZaXM-x3MNI-EyoJC/pub?gid=0&single=true&output=csv\")\n",
        "\n",
        "#Print dataset\n",
        "deser_ds.head()\n"
      ],
      "execution_count": null,
      "outputs": [
        {
          "output_type": "execute_result",
          "data": {
            "text/html": [
              "<div>\n",
              "<style scoped>\n",
              "    .dataframe tbody tr th:only-of-type {\n",
              "        vertical-align: middle;\n",
              "    }\n",
              "\n",
              "    .dataframe tbody tr th {\n",
              "        vertical-align: top;\n",
              "    }\n",
              "\n",
              "    .dataframe thead th {\n",
              "        text-align: right;\n",
              "    }\n",
              "</style>\n",
              "<table border=\"1\" class=\"dataframe\">\n",
              "  <thead>\n",
              "    <tr style=\"text-align: right;\">\n",
              "      <th></th>\n",
              "      <th>Carrera</th>\n",
              "      <th>Sexo</th>\n",
              "      <th>Edad</th>\n",
              "      <th>Semestre</th>\n",
              "      <th>AsignaturasCursadas</th>\n",
              "      <th>AsignaturasAprobadas</th>\n",
              "      <th>CreditosCursados</th>\n",
              "      <th>CreditosAprobados</th>\n",
              "      <th>PromedioUltimoPeriodo</th>\n",
              "      <th>PromedioAcumulado</th>\n",
              "      <th>Duracion</th>\n",
              "      <th>Estado</th>\n",
              "    </tr>\n",
              "  </thead>\n",
              "  <tbody>\n",
              "    <tr>\n",
              "      <th>0</th>\n",
              "      <td>ADMINISTRACION</td>\n",
              "      <td>Femenino</td>\n",
              "      <td>32</td>\n",
              "      <td>10</td>\n",
              "      <td>25</td>\n",
              "      <td>25</td>\n",
              "      <td>25</td>\n",
              "      <td>25</td>\n",
              "      <td>4.25</td>\n",
              "      <td>4.25</td>\n",
              "      <td>5</td>\n",
              "      <td>GRADUADO</td>\n",
              "    </tr>\n",
              "    <tr>\n",
              "      <th>1</th>\n",
              "      <td>ADMINISTRACION</td>\n",
              "      <td>Femenino</td>\n",
              "      <td>30</td>\n",
              "      <td>4</td>\n",
              "      <td>29</td>\n",
              "      <td>24</td>\n",
              "      <td>99</td>\n",
              "      <td>82</td>\n",
              "      <td>3.00</td>\n",
              "      <td>3.00</td>\n",
              "      <td>6</td>\n",
              "      <td>ACTIVO</td>\n",
              "    </tr>\n",
              "    <tr>\n",
              "      <th>2</th>\n",
              "      <td>ADMINISTRACION</td>\n",
              "      <td>Femenino</td>\n",
              "      <td>35</td>\n",
              "      <td>1</td>\n",
              "      <td>6</td>\n",
              "      <td>6</td>\n",
              "      <td>18</td>\n",
              "      <td>18</td>\n",
              "      <td>3.50</td>\n",
              "      <td>3.50</td>\n",
              "      <td>0</td>\n",
              "      <td>DESERTOR</td>\n",
              "    </tr>\n",
              "    <tr>\n",
              "      <th>3</th>\n",
              "      <td>ADMINISTRACION</td>\n",
              "      <td>Femenino</td>\n",
              "      <td>34</td>\n",
              "      <td>4</td>\n",
              "      <td>23</td>\n",
              "      <td>20</td>\n",
              "      <td>63</td>\n",
              "      <td>55</td>\n",
              "      <td>3.00</td>\n",
              "      <td>4.00</td>\n",
              "      <td>4</td>\n",
              "      <td>DESERTOR</td>\n",
              "    </tr>\n",
              "    <tr>\n",
              "      <th>4</th>\n",
              "      <td>ADMINISTRACION</td>\n",
              "      <td>Femenino</td>\n",
              "      <td>37</td>\n",
              "      <td>1</td>\n",
              "      <td>6</td>\n",
              "      <td>5</td>\n",
              "      <td>18</td>\n",
              "      <td>15</td>\n",
              "      <td>4.00</td>\n",
              "      <td>4.00</td>\n",
              "      <td>0</td>\n",
              "      <td>DESERTOR</td>\n",
              "    </tr>\n",
              "  </tbody>\n",
              "</table>\n",
              "</div>"
            ],
            "text/plain": [
              "          Carrera      Sexo  Edad  ...  PromedioAcumulado  Duracion    Estado\n",
              "0  ADMINISTRACION  Femenino    32  ...               4.25         5  GRADUADO\n",
              "1  ADMINISTRACION  Femenino    30  ...               3.00         6    ACTIVO\n",
              "2  ADMINISTRACION  Femenino    35  ...               3.50         0  DESERTOR\n",
              "3  ADMINISTRACION  Femenino    34  ...               4.00         4  DESERTOR\n",
              "4  ADMINISTRACION  Femenino    37  ...               4.00         0  DESERTOR\n",
              "\n",
              "[5 rows x 12 columns]"
            ]
          },
          "metadata": {
            "tags": []
          },
          "execution_count": 1
        }
      ]
    },
    {
      "cell_type": "markdown",
      "metadata": {
        "id": "SrSV0KtxfLJL"
      },
      "source": [
        "**2. Remove some attribues**"
      ]
    },
    {
      "cell_type": "code",
      "metadata": {
        "id": "yxIQtuaDy0UO",
        "colab": {
          "base_uri": "https://localhost:8080/",
          "height": 215
        },
        "outputId": "606ec214-0c03-48e3-c815-7f74b6d4b994"
      },
      "source": [
        "#Remove some attributes\n",
        "deser_ds.drop(['Carrera', 'Semestre', 'AsignaturasCursadas', 'AsignaturasAprobadas'], axis=1, inplace=True)\n",
        "\n",
        "#Print dataset\n",
        "deser_ds.head()"
      ],
      "execution_count": null,
      "outputs": [
        {
          "output_type": "execute_result",
          "data": {
            "text/html": [
              "<div>\n",
              "<style scoped>\n",
              "    .dataframe tbody tr th:only-of-type {\n",
              "        vertical-align: middle;\n",
              "    }\n",
              "\n",
              "    .dataframe tbody tr th {\n",
              "        vertical-align: top;\n",
              "    }\n",
              "\n",
              "    .dataframe thead th {\n",
              "        text-align: right;\n",
              "    }\n",
              "</style>\n",
              "<table border=\"1\" class=\"dataframe\">\n",
              "  <thead>\n",
              "    <tr style=\"text-align: right;\">\n",
              "      <th></th>\n",
              "      <th>Sexo</th>\n",
              "      <th>Edad</th>\n",
              "      <th>CreditosCursados</th>\n",
              "      <th>CreditosAprobados</th>\n",
              "      <th>PromedioUltimoPeriodo</th>\n",
              "      <th>PromedioAcumulado</th>\n",
              "      <th>Duracion</th>\n",
              "      <th>Estado</th>\n",
              "    </tr>\n",
              "  </thead>\n",
              "  <tbody>\n",
              "    <tr>\n",
              "      <th>0</th>\n",
              "      <td>Femenino</td>\n",
              "      <td>32</td>\n",
              "      <td>25</td>\n",
              "      <td>25</td>\n",
              "      <td>4.25</td>\n",
              "      <td>4.25</td>\n",
              "      <td>5</td>\n",
              "      <td>GRADUADO</td>\n",
              "    </tr>\n",
              "    <tr>\n",
              "      <th>1</th>\n",
              "      <td>Femenino</td>\n",
              "      <td>30</td>\n",
              "      <td>99</td>\n",
              "      <td>82</td>\n",
              "      <td>3.00</td>\n",
              "      <td>3.00</td>\n",
              "      <td>6</td>\n",
              "      <td>ACTIVO</td>\n",
              "    </tr>\n",
              "    <tr>\n",
              "      <th>2</th>\n",
              "      <td>Femenino</td>\n",
              "      <td>35</td>\n",
              "      <td>18</td>\n",
              "      <td>18</td>\n",
              "      <td>3.50</td>\n",
              "      <td>3.50</td>\n",
              "      <td>0</td>\n",
              "      <td>DESERTOR</td>\n",
              "    </tr>\n",
              "    <tr>\n",
              "      <th>3</th>\n",
              "      <td>Femenino</td>\n",
              "      <td>34</td>\n",
              "      <td>63</td>\n",
              "      <td>55</td>\n",
              "      <td>3.00</td>\n",
              "      <td>4.00</td>\n",
              "      <td>4</td>\n",
              "      <td>DESERTOR</td>\n",
              "    </tr>\n",
              "    <tr>\n",
              "      <th>4</th>\n",
              "      <td>Femenino</td>\n",
              "      <td>37</td>\n",
              "      <td>18</td>\n",
              "      <td>15</td>\n",
              "      <td>4.00</td>\n",
              "      <td>4.00</td>\n",
              "      <td>0</td>\n",
              "      <td>DESERTOR</td>\n",
              "    </tr>\n",
              "  </tbody>\n",
              "</table>\n",
              "</div>"
            ],
            "text/plain": [
              "       Sexo  Edad  CreditosCursados  ...  PromedioAcumulado  Duracion    Estado\n",
              "0  Femenino    32                25  ...               4.25         5  GRADUADO\n",
              "1  Femenino    30                99  ...               3.00         6    ACTIVO\n",
              "2  Femenino    35                18  ...               3.50         0  DESERTOR\n",
              "3  Femenino    34                63  ...               4.00         4  DESERTOR\n",
              "4  Femenino    37                18  ...               4.00         0  DESERTOR\n",
              "\n",
              "[5 rows x 8 columns]"
            ]
          },
          "metadata": {
            "tags": []
          },
          "execution_count": 2
        }
      ]
    },
    {
      "cell_type": "markdown",
      "metadata": {
        "id": "nRghIFFlfXgd"
      },
      "source": [
        "**3. Standarize dataset**"
      ]
    },
    {
      "cell_type": "code",
      "metadata": {
        "id": "rpU9bkHpzkXf",
        "colab": {
          "base_uri": "https://localhost:8080/",
          "height": 215
        },
        "outputId": "a34a075d-38de-4845-cb23-5a36f381c02c"
      },
      "source": [
        "from sklearn import preprocessing\n",
        "\n",
        "#Transforma data to [0-1] scale. \n",
        "deser_ds[['Edad', 'CreditosCursados', 'CreditosAprobados', 'PromedioUltimoPeriodo', 'PromedioAcumulado', 'Duracion']] = preprocessing.StandardScaler().fit_transform(deser_ds[['Edad', 'CreditosCursados', 'CreditosAprobados', 'PromedioUltimoPeriodo', 'PromedioAcumulado', 'Duracion']])\n",
        "\n",
        "#Print dataset\n",
        "deser_ds.head()"
      ],
      "execution_count": null,
      "outputs": [
        {
          "output_type": "execute_result",
          "data": {
            "text/html": [
              "<div>\n",
              "<style scoped>\n",
              "    .dataframe tbody tr th:only-of-type {\n",
              "        vertical-align: middle;\n",
              "    }\n",
              "\n",
              "    .dataframe tbody tr th {\n",
              "        vertical-align: top;\n",
              "    }\n",
              "\n",
              "    .dataframe thead th {\n",
              "        text-align: right;\n",
              "    }\n",
              "</style>\n",
              "<table border=\"1\" class=\"dataframe\">\n",
              "  <thead>\n",
              "    <tr style=\"text-align: right;\">\n",
              "      <th></th>\n",
              "      <th>Sexo</th>\n",
              "      <th>Edad</th>\n",
              "      <th>CreditosCursados</th>\n",
              "      <th>CreditosAprobados</th>\n",
              "      <th>PromedioUltimoPeriodo</th>\n",
              "      <th>PromedioAcumulado</th>\n",
              "      <th>Duracion</th>\n",
              "      <th>Estado</th>\n",
              "    </tr>\n",
              "  </thead>\n",
              "  <tbody>\n",
              "    <tr>\n",
              "      <th>0</th>\n",
              "      <td>Femenino</td>\n",
              "      <td>0.798471</td>\n",
              "      <td>-0.895113</td>\n",
              "      <td>-0.715998</td>\n",
              "      <td>-0.179800</td>\n",
              "      <td>-0.106345</td>\n",
              "      <td>-0.025247</td>\n",
              "      <td>GRADUADO</td>\n",
              "    </tr>\n",
              "    <tr>\n",
              "      <th>1</th>\n",
              "      <td>Femenino</td>\n",
              "      <td>0.469929</td>\n",
              "      <td>0.371307</td>\n",
              "      <td>0.353482</td>\n",
              "      <td>-0.189869</td>\n",
              "      <td>-0.121207</td>\n",
              "      <td>0.149821</td>\n",
              "      <td>ACTIVO</td>\n",
              "    </tr>\n",
              "    <tr>\n",
              "      <th>2</th>\n",
              "      <td>Femenino</td>\n",
              "      <td>1.291285</td>\n",
              "      <td>-1.014909</td>\n",
              "      <td>-0.847337</td>\n",
              "      <td>-0.185842</td>\n",
              "      <td>-0.115262</td>\n",
              "      <td>-0.900589</td>\n",
              "      <td>DESERTOR</td>\n",
              "    </tr>\n",
              "    <tr>\n",
              "      <th>3</th>\n",
              "      <td>Femenino</td>\n",
              "      <td>1.127013</td>\n",
              "      <td>-0.244789</td>\n",
              "      <td>-0.153114</td>\n",
              "      <td>-0.189869</td>\n",
              "      <td>-0.109318</td>\n",
              "      <td>-0.200316</td>\n",
              "      <td>DESERTOR</td>\n",
              "    </tr>\n",
              "    <tr>\n",
              "      <th>4</th>\n",
              "      <td>Femenino</td>\n",
              "      <td>1.619827</td>\n",
              "      <td>-1.014909</td>\n",
              "      <td>-0.903626</td>\n",
              "      <td>-0.181814</td>\n",
              "      <td>-0.109318</td>\n",
              "      <td>-0.900589</td>\n",
              "      <td>DESERTOR</td>\n",
              "    </tr>\n",
              "  </tbody>\n",
              "</table>\n",
              "</div>"
            ],
            "text/plain": [
              "       Sexo      Edad  CreditosCursados  ...  PromedioAcumulado  Duracion    Estado\n",
              "0  Femenino  0.798471         -0.895113  ...          -0.106345 -0.025247  GRADUADO\n",
              "1  Femenino  0.469929          0.371307  ...          -0.121207  0.149821    ACTIVO\n",
              "2  Femenino  1.291285         -1.014909  ...          -0.115262 -0.900589  DESERTOR\n",
              "3  Femenino  1.127013         -0.244789  ...          -0.109318 -0.200316  DESERTOR\n",
              "4  Femenino  1.619827         -1.014909  ...          -0.109318 -0.900589  DESERTOR\n",
              "\n",
              "[5 rows x 8 columns]"
            ]
          },
          "metadata": {
            "tags": []
          },
          "execution_count": 3
        }
      ]
    },
    {
      "cell_type": "markdown",
      "metadata": {
        "id": "CVxjR_l3fdm6"
      },
      "source": [
        "**4. Transform attribues**"
      ]
    },
    {
      "cell_type": "code",
      "metadata": {
        "id": "ptr_Tz0502D-",
        "colab": {
          "base_uri": "https://localhost:8080/",
          "height": 215
        },
        "outputId": "737f0294-cb0d-49df-a6e3-9f04508384c6"
      },
      "source": [
        "from sklearn.preprocessing import LabelEncoder\n",
        "\n",
        "#Transform YES/NO to 0/1\n",
        "lb = LabelEncoder() \n",
        "deser_ds['Sexo'] = lb.fit_transform(deser_ds['Sexo'])\n",
        "\n",
        "#Print dataset\n",
        "deser_ds.head()"
      ],
      "execution_count": null,
      "outputs": [
        {
          "output_type": "execute_result",
          "data": {
            "text/html": [
              "<div>\n",
              "<style scoped>\n",
              "    .dataframe tbody tr th:only-of-type {\n",
              "        vertical-align: middle;\n",
              "    }\n",
              "\n",
              "    .dataframe tbody tr th {\n",
              "        vertical-align: top;\n",
              "    }\n",
              "\n",
              "    .dataframe thead th {\n",
              "        text-align: right;\n",
              "    }\n",
              "</style>\n",
              "<table border=\"1\" class=\"dataframe\">\n",
              "  <thead>\n",
              "    <tr style=\"text-align: right;\">\n",
              "      <th></th>\n",
              "      <th>Sexo</th>\n",
              "      <th>Edad</th>\n",
              "      <th>CreditosCursados</th>\n",
              "      <th>CreditosAprobados</th>\n",
              "      <th>PromedioUltimoPeriodo</th>\n",
              "      <th>PromedioAcumulado</th>\n",
              "      <th>Duracion</th>\n",
              "      <th>Estado</th>\n",
              "    </tr>\n",
              "  </thead>\n",
              "  <tbody>\n",
              "    <tr>\n",
              "      <th>0</th>\n",
              "      <td>0</td>\n",
              "      <td>0.798471</td>\n",
              "      <td>-0.895113</td>\n",
              "      <td>-0.715998</td>\n",
              "      <td>-0.179800</td>\n",
              "      <td>-0.106345</td>\n",
              "      <td>-0.025247</td>\n",
              "      <td>GRADUADO</td>\n",
              "    </tr>\n",
              "    <tr>\n",
              "      <th>1</th>\n",
              "      <td>0</td>\n",
              "      <td>0.469929</td>\n",
              "      <td>0.371307</td>\n",
              "      <td>0.353482</td>\n",
              "      <td>-0.189869</td>\n",
              "      <td>-0.121207</td>\n",
              "      <td>0.149821</td>\n",
              "      <td>ACTIVO</td>\n",
              "    </tr>\n",
              "    <tr>\n",
              "      <th>2</th>\n",
              "      <td>0</td>\n",
              "      <td>1.291285</td>\n",
              "      <td>-1.014909</td>\n",
              "      <td>-0.847337</td>\n",
              "      <td>-0.185842</td>\n",
              "      <td>-0.115262</td>\n",
              "      <td>-0.900589</td>\n",
              "      <td>DESERTOR</td>\n",
              "    </tr>\n",
              "    <tr>\n",
              "      <th>3</th>\n",
              "      <td>0</td>\n",
              "      <td>1.127013</td>\n",
              "      <td>-0.244789</td>\n",
              "      <td>-0.153114</td>\n",
              "      <td>-0.189869</td>\n",
              "      <td>-0.109318</td>\n",
              "      <td>-0.200316</td>\n",
              "      <td>DESERTOR</td>\n",
              "    </tr>\n",
              "    <tr>\n",
              "      <th>4</th>\n",
              "      <td>0</td>\n",
              "      <td>1.619827</td>\n",
              "      <td>-1.014909</td>\n",
              "      <td>-0.903626</td>\n",
              "      <td>-0.181814</td>\n",
              "      <td>-0.109318</td>\n",
              "      <td>-0.900589</td>\n",
              "      <td>DESERTOR</td>\n",
              "    </tr>\n",
              "  </tbody>\n",
              "</table>\n",
              "</div>"
            ],
            "text/plain": [
              "   Sexo      Edad  CreditosCursados  ...  PromedioAcumulado  Duracion    Estado\n",
              "0     0  0.798471         -0.895113  ...          -0.106345 -0.025247  GRADUADO\n",
              "1     0  0.469929          0.371307  ...          -0.121207  0.149821    ACTIVO\n",
              "2     0  1.291285         -1.014909  ...          -0.115262 -0.900589  DESERTOR\n",
              "3     0  1.127013         -0.244789  ...          -0.109318 -0.200316  DESERTOR\n",
              "4     0  1.619827         -1.014909  ...          -0.109318 -0.900589  DESERTOR\n",
              "\n",
              "[5 rows x 8 columns]"
            ]
          },
          "metadata": {
            "tags": []
          },
          "execution_count": 4
        }
      ]
    },
    {
      "cell_type": "markdown",
      "metadata": {
        "id": "pqz353Yhfog_"
      },
      "source": [
        "**5. Train and test split**"
      ]
    },
    {
      "cell_type": "code",
      "metadata": {
        "id": "KufzM1En1Qdo"
      },
      "source": [
        "from sklearn.model_selection import train_test_split\n",
        "from sklearn.preprocessing import label_binarize\n",
        "\n",
        "y = deser_ds['Estado']\n",
        "X = deser_ds.drop('Estado', axis=1)\n",
        "\n",
        "X_train, X_test, y_train, y_test = train_test_split(X, y, test_size=.15, random_state=0)\n"
      ],
      "execution_count": null,
      "outputs": []
    },
    {
      "cell_type": "markdown",
      "metadata": {
        "id": "0NeqQVLAfuRR"
      },
      "source": [
        "**6. Multiple Logistic Regression**"
      ]
    },
    {
      "cell_type": "code",
      "metadata": {
        "id": "CnQhXfGE1ium",
        "colab": {
          "base_uri": "https://localhost:8080/",
          "height": 336
        },
        "outputId": "ade0e3a3-9e5f-4238-f3f2-0a6165493914"
      },
      "source": [
        "from sklearn.linear_model import LogisticRegression\n",
        "\n",
        "clf = LogisticRegression(random_state=0,penalty='l2').fit(X_train, y_train)\n",
        "\n",
        "#Evaluate Model\n",
        "from sklearn.metrics import classification_report,confusion_matrix\n",
        "\n",
        "predictions = clf.predict(X_test)\n",
        "\n",
        "print(\"\\n=====Confusion Matrix (Logistic Regression):=====\\n\")\n",
        "print(confusion_matrix(y_test,predictions))\n",
        "\n",
        "print(\"\\n=====Classification Report (Logistic Regression):=====\\n\")\n",
        "print(classification_report(y_test,predictions))\n"
      ],
      "execution_count": null,
      "outputs": [
        {
          "output_type": "stream",
          "text": [
            "\n",
            "=====Confusion Matrix (Logistic Regression):=====\n",
            "\n",
            "[[289  50  45]\n",
            " [ 57 241  21]\n",
            " [ 21  26 199]]\n",
            "\n",
            "=====Classification Report (Logistic Regression):=====\n",
            "\n",
            "              precision    recall  f1-score   support\n",
            "\n",
            "      ACTIVO       0.79      0.75      0.77       384\n",
            "    DESERTOR       0.76      0.76      0.76       319\n",
            "    GRADUADO       0.75      0.81      0.78       246\n",
            "\n",
            "    accuracy                           0.77       949\n",
            "   macro avg       0.77      0.77      0.77       949\n",
            "weighted avg       0.77      0.77      0.77       949\n",
            "\n"
          ],
          "name": "stdout"
        }
      ]
    },
    {
      "cell_type": "markdown",
      "metadata": {
        "id": "Fy8swfdDf7EL"
      },
      "source": [
        "**7. Multiple Decision Tree**"
      ]
    },
    {
      "cell_type": "code",
      "metadata": {
        "id": "RvyvFF6H2k0k",
        "colab": {
          "base_uri": "https://localhost:8080/",
          "height": 336
        },
        "outputId": "ecdf0478-da89-453e-e9c2-13e27604d180"
      },
      "source": [
        "from sklearn import tree\n",
        "\n",
        "clf_dt = tree.DecisionTreeClassifier()\n",
        "clf_dt = clf_dt.fit(X_train, y_train)\n",
        "\n",
        "#Evaluate Model\n",
        "from sklearn.metrics import classification_report,confusion_matrix\n",
        "\n",
        "predictions = clf_dt.predict(X_test)\n",
        "\n",
        "print(\"\\n=====Confusion Matrix (Decision Tree):=====\\n\")\n",
        "print(confusion_matrix(y_test,predictions))\n",
        "\n",
        "print(\"\\n=====Classification Report (Decision Tree):=====\\n\")\n",
        "print(classification_report(y_test,predictions))\n"
      ],
      "execution_count": null,
      "outputs": [
        {
          "output_type": "stream",
          "text": [
            "\n",
            "=====Confusion Matrix (Decision Tree):=====\n",
            "\n",
            "[[278  59  47]\n",
            " [ 65 236  18]\n",
            " [ 43  13 190]]\n",
            "\n",
            "=====Classification Report (Decision Tree):=====\n",
            "\n",
            "              precision    recall  f1-score   support\n",
            "\n",
            "      ACTIVO       0.72      0.72      0.72       384\n",
            "    DESERTOR       0.77      0.74      0.75       319\n",
            "    GRADUADO       0.75      0.77      0.76       246\n",
            "\n",
            "    accuracy                           0.74       949\n",
            "   macro avg       0.74      0.75      0.74       949\n",
            "weighted avg       0.74      0.74      0.74       949\n",
            "\n"
          ],
          "name": "stdout"
        }
      ]
    },
    {
      "cell_type": "markdown",
      "metadata": {
        "id": "upFYoE8hf9gY"
      },
      "source": [
        "**8. Random Forrest**"
      ]
    },
    {
      "cell_type": "code",
      "metadata": {
        "id": "BJLNUjyo2oUJ",
        "colab": {
          "base_uri": "https://localhost:8080/",
          "height": 336
        },
        "outputId": "fbf4140b-20d4-46c9-fd7d-1f89edc87671"
      },
      "source": [
        "from sklearn.ensemble import RandomForestClassifier\n",
        "from sklearn.multiclass import OneVsRestClassifier\n",
        "from sklearn.metrics import roc_curve, auc\n",
        "import matplotlib.pyplot as plt\n",
        "import numpy as np\n",
        "from scipy import interp\n",
        "\n",
        "clf_rf = RandomForestClassifier(max_depth=5, random_state=0)\n",
        "clf_rf = clf_rf.fit(X_train, y_train)\n",
        "\n",
        "#Evaluate Model\n",
        "from sklearn.metrics import classification_report,confusion_matrix\n",
        "\n",
        "predictions = clf_rf.predict(X_test)\n",
        "\n",
        "print(\"\\n=====Confusion Matrix (Random Forrest):=====\\n\")\n",
        "print(confusion_matrix(y_test,predictions))\n",
        "\n",
        "print(\"\\n=====Classification Report (Random Forrest):=====\\n\")\n",
        "print(classification_report(y_test,predictions))\n"
      ],
      "execution_count": null,
      "outputs": [
        {
          "output_type": "stream",
          "text": [
            "\n",
            "=====Confusion Matrix (Random Forrest):=====\n",
            "\n",
            "[[272  57  55]\n",
            " [ 46 255  18]\n",
            " [ 19  15 212]]\n",
            "\n",
            "=====Classification Report (Random Forrest):=====\n",
            "\n",
            "              precision    recall  f1-score   support\n",
            "\n",
            "      ACTIVO       0.81      0.71      0.75       384\n",
            "    DESERTOR       0.78      0.80      0.79       319\n",
            "    GRADUADO       0.74      0.86      0.80       246\n",
            "\n",
            "    accuracy                           0.78       949\n",
            "   macro avg       0.78      0.79      0.78       949\n",
            "weighted avg       0.78      0.78      0.78       949\n",
            "\n"
          ],
          "name": "stdout"
        }
      ]
    }
  ]
}