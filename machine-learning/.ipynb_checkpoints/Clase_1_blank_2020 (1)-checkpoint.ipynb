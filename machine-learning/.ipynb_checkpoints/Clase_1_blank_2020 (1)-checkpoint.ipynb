{
 "cells": [
  {
   "cell_type": "markdown",
   "metadata": {
    "colab_type": "text",
    "id": "YnqIW4cNVpU3"
   },
   "source": [
    "# Python para análisis de datos\n",
    "\n",
    "\n",
    "Para iniciar con python se recomienda instalar [ANACONDA](https://www.continuum.io/downloads) , en la version  3.x\n",
    "\n",
    "---\n",
    "\n",
    "\n",
    "**Nota** Despues de instalado se puede cambiar de version siguiendo los  [pasos](http://conda.pydata.org/docs/py2or3.html) , [ayuda](http://stackoverflow.com/questions/30492623/using-both-python-2-x-and-python-3-x-in-ipython-notebook)\n",
    "---\n"
   ]
  },
  {
   "cell_type": "markdown",
   "metadata": {
    "colab_type": "text",
    "id": "u5BgFra-tI-_"
   },
   "source": [
    "## Verifiquemos que tenemos lo que necesitamos"
   ]
  },
  {
   "cell_type": "code",
   "execution_count": 0,
   "metadata": {
    "cellView": "both",
    "colab": {},
    "colab_type": "code",
    "id": "MdeGSjuQVpU4",
    "scrolled": true
   },
   "outputs": [],
   "source": [
    "#@title\n",
    "\n",
    "# Python version\n",
    "import sys\n",
    "print('Python: {}'.format(sys.version))\n",
    "\n",
    "import sklearn\n",
    "print('sklearn: {}'.format(sklearn.__version__))\n",
    "# scipy\n",
    "import scipy\n",
    "print('scipy: {}'.format(scipy.__version__))\n",
    "# numpy\n",
    "import numpy\n",
    "print('numpy: {}'.format(numpy.__version__))\n",
    "# matplotlib\n",
    "import matplotlib\n",
    "print('matplotlib: {}'.format(matplotlib.__version__))\n",
    "# pandas\n",
    "import pandas\n",
    "print('pandas: {}'.format(pandas.__version__))\n",
    "# scikit-learn\n",
    "import sklearn\n",
    "print('sklearn: {}'.format(sklearn.__version__))\n"
   ]
  },
  {
   "cell_type": "markdown",
   "metadata": {
    "colab_type": "text",
    "id": "Z8htMSrTVpU_"
   },
   "source": [
    "\n",
    "## Buscar ayuda\n",
    "Tenemos la opción de usar ? para ver la ayuda de una función, o usar tab para ver las funciones disponibles de un objeto\n",
    "\n",
    "Ejercicio: importar la biblioteca random y buscar ayuda sobre la función `random`\n",
    "\n"
   ]
  },
  {
   "cell_type": "code",
   "execution_count": 0,
   "metadata": {
    "colab": {},
    "colab_type": "code",
    "id": "yNLm16ElVpU_"
   },
   "outputs": [],
   "source": [
    "import random\n",
    "random\n",
    "\n",
    "\n"
   ]
  },
  {
   "cell_type": "markdown",
   "metadata": {
    "colab_type": "text",
    "id": "CQgoLVyCVpVC"
   },
   "source": [
    "# Python\n",
    "Python es un lenguaje de programación de alto nivel, interpretado, interactivo, orientado a objetos y de propósito general. Fue creado por Guido van Rossum durante 1985-1990. Al igual que Perl, el código fuente de Python también está disponible bajo la Licencia Pública General de GNU (GPL).\n",
    "\n",
    "basado en [Complete Python Bootcamp: Go from zero to hero in Python 3](https://www.udemy.com/complete-python-bootcamp/) y [Python - Tutorial](https://www.tutorialspoint.com/python/index.htm) (*warning: is python2*)\n",
    "\n",
    "- se considera la mejor práctica ([PEP8](https://www.python.org/dev/peps/pep-0008/#function-and-variable-names)) que los nombres de las variables están en minúsculas con guiones bajos\n",
    "- Python utiliza *escritura dinámica*, lo que significa que puede reasignar variables a diferentes tipos de datos.\n",
    "- Python soporta cuatro tipos numéricos diferentes\n",
    "\n",
    "  - int (enteros con signo) `5`\n",
    "  - long (enteros largos, también se pueden representar en octal y hexadecimal) `5L`,` 0x80`\n",
    "  - float (valores reales de punto flotante) `0.0`,` 0.5e52`\n",
    "  - complejo (números complejos) `14.5j`\n",
    "- Se puede pensar en las listas de la versión más general de una secuencia en Python. A diferencia de las cadenas, son mutables, lo que significa que los elementos dentro de una lista se pueden cambiar.\n",
    "- Lo importante de una lista es que los elementos de una lista no tienen que ser del mismo tipo.\n",
    "- Una gran característica de las estructuras de datos de Python es que admiten el anidamiento. Esto significa que podemos tener estructuras de datos dentro de estructuras de datos\n",
    "-En las estructuras de datos Diccionario([dict](https://docs.python.org/3/tutorial/datastructures.html)) Las claves son únicas dentro de un diccionario, mientras que los valores pueden no serlo.\n",
    "- Los valores de un diccionario pueden ser de cualquier tipo, pero las claves deben ser de un tipo de datos inmutables como cadenas, números o tuplas.\n",
    "- En Python, la TUPLA es otro tipo de arreglo que dispone el Python. Esta variable está más cerca al concepto matemático de vector, puesto que en Python la tupla se maneja como una lista más cerrada porque no puede cambiar elementos individuales, en otras palabras, es inmutable según lo definen [tuples](https://docs.python.org/3/tutorial/datastructures.html#tuples-and-sequences)\n"
   ]
  },
  {
   "cell_type": "markdown",
   "metadata": {
    "colab_type": "text",
    "id": "HOh33NVqWRhO"
   },
   "source": [
    "\n",
    "## Python basico\n",
    "\n",
    "\n",
    "Sin ejecutar el codigo, que crees que retorna cada item? pruebalo\n",
    "\n",
    "1. **numbers** \n",
    "\n",
    "```\n",
    "3/2\n",
    "3/float(2)\n",
    "3%2\n",
    "3.00//2.00\n",
    "2**3\n",
    "4**0.5\n",
    "import math\n",
    "math.sqrt(4)\n",
    "2 + 10 * 10 + 3\n",
    "(2+10) * (10+3)\n",
    "```\n",
    "2. **Variables**\n",
    "\n",
    "```\n",
    "a = 10\n",
    "a =a + 10\n",
    "a += 10\n",
    "b = c = a\n",
    "a,b,c = 1,2,\"john\"\n",
    "my_dogs = 2\n",
    "my_dogs = ['Sammy', 'Frankie']\n",
    "del my_dogs\n",
    "\n",
    "```\n",
    "3. **string**\n",
    "\n",
    "```\n",
    "str = 'Hello World!'\n",
    "\n",
    "print (str)          \n",
    "print (str[0])       \n",
    "print (str[2:5])     \n",
    "print (str[2:])      \n",
    "print (str * 2)      \n",
    "print (str + \"TEST\")\n",
    "str.upper()\n",
    "str.split()\n",
    "'Carlos: {}'.format(str)\n",
    "print(\" %s ,  %s\" %(str,\"I'm Carlos\"))\n",
    "\n",
    "print('I wrote %s programs today.' %3.75)\n",
    "print('I wrote %d programs today.' %3.75)\n",
    "print('I wrote %5.2f programs today.' %3.75)\n",
    "print('First: %s, Second: %5.2f, Third: %r' %('hi!',3.1415,'bye!'))\n",
    "print('The {2} {1} {0}'.format('fox','brown','quick'))\n",
    "print('First Object: {a}, Second Object: {b}, Third Object: {c}'.format(a=1,b='Two',c=12.3))\n",
    "\n",
    "print('{0:8} | {1:9}'.format('Fruit', 'Quantity'))\n",
    "print('{0:8} | {1:9}'.format('Apples', 3.))\n",
    "print('{0:8} | {1:9}'.format('Oranges', 10))\n",
    "\n",
    "```\n",
    "\n",
    "4. **Array list**\n",
    "\n",
    "```\n",
    "my_list = [1,2,3]\n",
    "my_list = ['A string',23,100.232,0]\n",
    "my_list + ['new item']\n",
    "my_list = my_list +['new item']\n",
    "my_list.pop(0)\n",
    "my_list.pop(-1)\n",
    "my_list.reverse()\n",
    "my_list.sort()\n",
    "my_list * 2\n",
    "my_list=[]\n",
    "my_list=array()\n",
    "\n",
    "num_list = range(1, 101)\n",
    "print(num_list[49])\n",
    "type(num_list)\n",
    "len(num_list)\n",
    "\n",
    "new_list = [0, 1, 2, 3, 4, 5, 6]\n",
    "new_list[2] = 2001;\n",
    "new_list[2:5]\n",
    "new_list[:3]\n",
    "new_list[-2:]\n",
    "\n",
    "list_1 = [1,2]\n",
    "list_2 = [3, 4]\n",
    "list_1=list_1+list_2\n",
    "list_1.append(list_2)\n",
    "[num*2 for num in list_1]\n",
    "\n",
    "lst_1=[1,2,3]\n",
    "lst_2=[4,5,6]\n",
    "lst_3=[7,8,9]\n",
    "matrix = [lst_1,lst_2,lst_3]\n",
    "matrix[0][0]=8\n",
    "print(matrix)\n",
    "\n",
    "```\n",
    "4.  **Dictionary**\n",
    "\n",
    "```\n",
    "d = {'a':10, 'b':20, 'c':30}\n",
    "d['a']\n",
    "d['b']=40\n",
    "d.clear()\n",
    "\n",
    "print(d)\n",
    "\n",
    "dict = {'Name': 'Zara', 'Age': 7, 'Name': 'Manni'}\n",
    "dict.values()\n",
    "dict.keys()\n",
    "dict.items()\n",
    "print(dict['Name'])\n",
    "dict2['Name']='Carlos'\n",
    "dict.update(dict2)\n",
    "\n",
    "\n",
    "locations = {'Sinan': ['Baltimore', 'MD'], 'Brandon': ['Arlington', 'VA']}\n",
    "print(locations['Brandon'][1])\n",
    "\n",
    "from numpy import random\n",
    "data = {'a'+str(i) : random.randn() for i in range(7)}\n",
    "print(data['a1'])\n",
    "data\n",
    "```\n",
    "\n",
    "5. ** functions**\n",
    "\n",
    "```\n",
    "def calc(a, b):\n",
    "    return a + b\n",
    "print(calc(2,3))\n",
    "```\n",
    "\n",
    "Para probar cualquiera de los códigos anteriores, simplemente copie el bloque de código en la celda de python a continuación."
   ]
  },
  {
   "cell_type": "code",
   "execution_count": 0,
   "metadata": {
    "colab": {},
    "colab_type": "code",
    "id": "jKLkNF0IVpVD"
   },
   "outputs": [],
   "source": [
    "my_list = [1,2,3]\n",
    "my_list = ['A string',23,100.232,0]\n",
    "my_list + ['new item']\n",
    "my_list = my_list +['new item']\n",
    "\n",
    "my_list.pop(0)\n",
    "my_list.pop(-1)\n",
    "print(my_list)\n",
    "\n",
    "my_list.reverse()\n",
    "\n",
    "my_list.sort()\n",
    "\n",
    "\n",
    "print(my_list*2)\n",
    "my_list=[]\n",
    "\n",
    "\n",
    "num_list = range(1, 101)\n",
    "print(num_list[49])\n",
    "type(num_list)\n",
    "len(num_list)\n",
    "\n",
    "new_list = [0, 1, 2, 3, 4, 5, 6]\n",
    "new_list[2] = 2001;\n",
    "new_list[2:5]\n",
    "new_list[:3]\n",
    "new_list[-2:]\n",
    "\n",
    "list_1 = [1,2]\n",
    "list_2 = [3,4]\n",
    "list_1=list_1+list_2\n",
    "list_1.append(list_2)\n",
    "[num*2 for num in list_1]\n"
   ]
  },
  {
   "cell_type": "markdown",
   "metadata": {
    "colab_type": "text",
    "id": "dwJUVm0cVpVj"
   },
   "source": [
    "![numpy](https://upload.wikimedia.org/wikipedia/commons/thumb/1/1a/NumPy_logo.svg/640px-NumPy_logo.svg.png)\n",
    "\n",
    "\n",
    "## Numpy\n",
    "\n",
    "\n",
    "NumPy es el paquete fundamental para la computación científica con Python. Contiene entre otras cosas:\n",
    "\n",
    "- un poderoso objeto de matriz N-dimensional\n",
    "\n",
    "-funciones sofisticadas (de transmisión)\n",
    "\n",
    "- herramientas para integrar código C / C ++ y Fortran\n",
    "\n",
    "- Álgebra lineal útil, transformada de Fourier y capacidades de números aleatorios\n",
    "\n",
    "\n",
    "Todo Arreglo/array en Numpy es tratado como un objeto que entre sus propiedades tiene:\n",
    "\n",
    "- ndarray.ndim –> Proporciona el número de dimensiones de nuestro array. El array identidad es un array cuadrado con una diagonal principal unitaria.\n",
    "- ndarray.shape –> Devuelve la dimensión del array, es decir, una tupla de enteros indicando el tamaño del array en cada dimensión. Para una matriz de n filas y m columnas obtendremos (n,m).\n",
    "- ndarray.size –> Es el número total de elementos del array.\n",
    "- ndarray.dtype –> Es un objeto que describe el tipo de elementos del array.\n",
    "- ndarray.itemsize –> devuelve el tamaño del array en bytes.\n",
    "- ndarray.data –> El buffer contiene los elementos actuales del array.\n",
    "\n",
    "## Creación de Arrays\n",
    "\n",
    "\n",
    "- identity(n,dtype). Devuelve la matriz identidad, es decir, uma matriz cuadrada nula excepto en su diagonal principal que es unitaria. n es el número de filas (y columnas) que tendrá la matriz y dtype es el tipo de dato. Este argumento es opcional. Si no se establece, se toma por defecto como flotante.\n",
    "- ones(shape,dtype). Crea un array de unos compuesto de shape elementos.\n",
    "- zeros(shape, dtype). Crea un array de ceros compuesto de “shape” elementos”.\n",
    "- empty(shape, dtype). Crea un array de ceros compuesto de “shape” elementos” sin entradas.\n",
    "- eye(N, M, k, dtype). Crea un array bidimensional con unos en la diagonal k y ceros en el resto. Es similar a identity. Todos los argumentos son opcionales. N es el número de filas, M el de columnas y k es el índice de la diagonal. Cuando k=0 nos referimos a la diagonal principal y por tanto eye es similar a identity.\n",
    "- arange([start,]stop[,step,],dtype=None). Crea un array con valores distanciados step entre el valor inicial star y el valor final stop. Si no se establece step python establecerá uno por defecto.\n",
    "- linspace(start,stop,num,endpoint=True,retstep=False). Crea un array con valor inicial start, valor final stop y num elementos.\n",
    "- meshgrid(x,y). Genera una matriz de coordenadas a partir de dos los arrays x, y.\n",
    "\n",
    "## Funciones\n",
    "\n",
    "El módulo numpy contiene todas las operaciones usuales entre arrays como las matemáticas (suma, resta, multiplicación, etc), las lógicas (and, or, xor, etc), binarias, ... \n",
    "[Operaciones Numpy](https://drive.google.com/file/d/17wZqpCvckCb8Ous3HAaRqPu33rJKtTeB/view?usp=sharing)\n",
    "\n",
    "\n",
    "[buen tutorial](http://pendientedemigracion.ucm.es/info/aocg/python/modulos_cientificos/numpy/index.html)\n",
    "\n",
    "Lo más fácil y sencillo es en caso de duda consultar la documentación oficial. [documentacion](https://docs.scipy.org/doc/numpy/reference/index.html#reference)\n",
    "\n",
    "\n"
   ]
  },
  {
   "cell_type": "code",
   "execution_count": 0,
   "metadata": {
    "colab": {},
    "colab_type": "code",
    "id": "1ZziqZo1VpVl"
   },
   "outputs": [],
   "source": [
    "import numpy as np # Importamos numpy como el alias np"
   ]
  },
  {
   "cell_type": "code",
   "execution_count": 0,
   "metadata": {
    "colab": {},
    "colab_type": "code",
    "id": "cmhYnwFQVpVn"
   },
   "outputs": [],
   "source": [
    "\n",
    "# tipo de datos\n",
    "arr1 = np.array([1, 2, 3], dtype=np.float64)\n",
    "arr2 = np.array([1, 2, 3], dtype=np.int32)\n",
    "#funciones basicas\n",
    "miArray = np.arange(10) # Creamos un array de 0 a 9 separados de uno en uno\n",
    "print (miArray) # Presentamos en pantalla el array creado\n",
    "print (type(miArray))   #Comprobamos que es un ndarray\n",
    "print (miArray.ndim )   # Consultamos el número de dimensiones\n",
    "print (miArray.shape )  # Consultamos la dimensión\n",
    "print (miArray.size )  # Consultamos la dimensión\n",
    "print (miArray.dtype )  # Consultamos el tipo de elementos del array\n",
    "print (miArray.itemsize )  # tamaño en bytes\n",
    "print (miArray.data )  # Consultamos el buffer de memoria.\n",
    "\n"
   ]
  },
  {
   "cell_type": "code",
   "execution_count": 0,
   "metadata": {
    "colab": {},
    "colab_type": "code",
    "id": "sXZppWkaz0Ft"
   },
   "outputs": [],
   "source": [
    "# array bidimensionales\n",
    "arr2d = np.array([[1, 2, 3], [4, 5, 6], [7, 8, 9]])\n",
    "\n",
    "print(arr2d[2])\n",
    "\n",
    "print(arr2d[0][2])\n",
    "#arr2d[0,2]\n",
    "\n",
    "#grupo de elementos\n",
    "print((arr2d[:,1]))\n",
    "\n",
    "# acesso con operaciones\n",
    "print(arr2d[arr2d>4])\n",
    "\n",
    "#fancy indexing (una matrix es en verdad un arreglo)\n",
    "arr = np.empty((8, 4))\n",
    "for i in range(8):\n",
    "    arr[i] = i\n",
    "print(arr)\n",
    "\n",
    "#seleccionar columnas en desorden\n",
    "print (arr[[4, 3, 0, 6]])\n",
    "#Using negative indices select rows from the end\n",
    "print(arr[[-3, -5, -7]])\n",
    "\n",
    "#reorganizar vectores\n",
    "arr = np.arange(32).reshape((8, 4))\n",
    "print(arr)"
   ]
  },
  {
   "cell_type": "markdown",
   "metadata": {
    "colab_type": "text",
    "id": "HT6D0WPb0xIr"
   },
   "source": [
    "### **Ejercicio**\n",
    "\n",
    "Crear dos vectores de diez numeros aleatorios enteros [np.random.randint](https://docs.scipy.org/doc/numpy-1.15.0/reference/generated/numpy.random.randint.html) entre 1 y 10 y realizar las siguientes operaciones:\n",
    "- sumarlos\n",
    "- concatenar los dos arreglos\n",
    "- encontrar la sumatoria de los valores\n",
    "- encontrar la media de los valores\n",
    "- imprimir los numeros mayores que 5\n",
    "- determinar las posiciones de los numeros que son iguales en los arreglos\n",
    "\n"
   ]
  },
  {
   "cell_type": "code",
   "execution_count": 0,
   "metadata": {
    "colab": {},
    "colab_type": "code",
    "id": "TuwfZ1cb0Jwv"
   },
   "outputs": [],
   "source": [
    "\n"
   ]
  },
  {
   "cell_type": "markdown",
   "metadata": {
    "colab_type": "text",
    "collapsed": true,
    "id": "XpDZB-nQVpVp"
   },
   "source": [
    "## SQLite\n",
    "\n",
    "Cuando abre un excel o CSV en Python y lo asigna a un nombre de variable, está usando la memoria de su computadora para guardar esa variable. Acceder a los datos desde una base de datos como SQL no solo es más eficiente, sino que también le permite importar solo las partes de los datos que necesita.\n",
    "\n",
    "\n",
    "Cada una de las bases de datos tienen sus librerias para python, a manera de ejemplo veamos SQLite.\n",
    "\n",
    "- Revisar la base de datos en linea [sqliteonline](https://sqliteonline.com/)\n",
    "\n",
    "\n",
    "- **Ejercicio** escribamos tres query (enunciado en [Markdown](https://github.com/adam-p/markdown-here/wiki/Markdown-Cheatsheet) y luego el codigo sql respectivo.\n",
    "\n",
    "los datos son   la Guía de valor para vehículos en Colombia suministrada por fasecolda, que se puede descargar de [Kaggle](https://www.kaggle.com/panchicore/vehicles-colombia-fasecolda/version/1)\n",
    "\n",
    "\n",
    "[Link de descarga](https://drive.google.com/file/d/1wVSVbq1cJ68dU-0D8c4tPh83Hjy8azPM/view?usp=sharing)\n",
    "\n",
    "\n",
    "tutorial [sqllite](http://www.datacarpentry.org/python-ecology-lesson/08-working-with-sql) \n"
   ]
  },
  {
   "cell_type": "code",
   "execution_count": 0,
   "metadata": {
    "colab": {},
    "colab_type": "code",
    "id": "VjzXrWwjXG-Z"
   },
   "outputs": [],
   "source": [
    "# Cargamos el archivo (solo en collaborative) en caso contrario colocar el archivo en la raiz\n",
    "from google.colab import files\n",
    "files.upload()"
   ]
  },
  {
   "cell_type": "code",
   "execution_count": 0,
   "metadata": {
    "colab": {},
    "colab_type": "code",
    "id": "9KwWjMlhVpVp"
   },
   "outputs": [],
   "source": [
    "\n",
    "import sqlite3\n",
    "\n",
    "# Create a SQL connection to our SQLite database\n",
    "con = sqlite3.connect(\"guia_fasecolda.sqlite\")\n",
    "\n",
    "cur = con.cursor()\n",
    "\n",
    "# the result of a \"cursor.execute\" can be iterated over by row\n",
    "\n",
    "for row in cur.execute('SELECT Marca,Referencia1,Cilindraje,Peso,\"2015\",\"2016\",\"2017\" FROM carros where Cilindraje<1500 AND Cilindraje>1200 AND \"2015\">0;'):\n",
    "   print(row)\n",
    "    \n",
    "\n",
    "#AQUI Realize sus consultas sql de los datos\n",
    "\n",
    "\n",
    "#Be sure to close the connection.\n",
    "con.close()\n"
   ]
  },
  {
   "cell_type": "markdown",
   "metadata": {
    "colab_type": "text",
    "id": "r0aBCTbvZE_7"
   },
   "source": [
    "## Pandas\n",
    "\n",
    "![Panda Logo](https://pandas.pydata.org/_static/pandas_logo.png)\n",
    "\n",
    "Documentación de [Pandas](http://pandas.pydata.org/pandas-docs/stable/10min.html)\n",
    "\n",
    "Pandas es una librería para el análisis de datos que cuenta con las estructuras de datos que necesitamos para limpiar los datos en bruto y que sean aptos para el análisis (por ejemplo, tablas). Es importante señalar aquí que, dado que pandas lleva a cabo tareas importantes, como alinear datos para su comparación, fusionar conjuntos de datos, gestión de datos perdidos, etc., se ha convertido en una librería muy importante para procesar datos a alto nivel en Python (es decir, estadísticas ). Pandas fue diseñada originalmente para gestionar datos financieros, y como alternativa al uso de hojas de cálculo (es decir, Microsoft Excel). Esta libreria tambien es equivalente en gran parte a las estructuras de datos de R.\n",
    "\n",
    "La estructura de datos básica de pandas son:\n",
    "\n",
    "- **Series**: Son arrays unidimensionales con indexación (arrays con índice o etiquetados), similar a los diccionarios. Pueden generarse a partir de diccionarios o de listas.\n",
    "- **DataFrame**: Es una colección ordenada de columnas con nombres y tipos. Son estructuras de datos similares a las tablas de bases de datos relacionales como SQL, donde una sola fila representa un único caso (ejemplo) y las columnas representan atributos particulares. \n",
    "- **Panel, Panel4D y PanelND**: Estas estructuras de datos permiten trabajar con más de dos dimensiones. \n",
    "\n",
    "Sobre este tipo de estructura de datos se aplican funciones, ejemplo:\n"
   ]
  },
  {
   "cell_type": "code",
   "execution_count": 0,
   "metadata": {
    "colab": {},
    "colab_type": "code",
    "id": "YoLiQYnXVpVt",
    "scrolled": true
   },
   "outputs": [],
   "source": [
    "import pandas as pd\n",
    "\n",
    "dates = pd.date_range('20200101', periods=6)\n",
    "df = pd.DataFrame(np.random.randn(6,4), index=dates, columns=list('ABCD'))"
   ]
  },
  {
   "cell_type": "code",
   "execution_count": 0,
   "metadata": {
    "colab": {},
    "colab_type": "code",
    "id": "ZmwpdP5jCDor"
   },
   "outputs": [],
   "source": [
    "#valores iniciales de la lista\n",
    "df.head()\n"
   ]
  },
  {
   "cell_type": "code",
   "execution_count": 0,
   "metadata": {
    "colab": {},
    "colab_type": "code",
    "id": "yYSZQ0A_CJOX"
   },
   "outputs": [],
   "source": [
    "#valores finales de la lista\n",
    "df.tail(3)"
   ]
  },
  {
   "cell_type": "code",
   "execution_count": 0,
   "metadata": {
    "colab": {},
    "colab_type": "code",
    "id": "UaxVTKJjCLQv"
   },
   "outputs": [],
   "source": [
    "#aceder a los datos como un arreglo numpy\n",
    "print(df.index)\n",
    "print(df.columns)\n",
    "df.values\n"
   ]
  },
  {
   "cell_type": "code",
   "execution_count": 0,
   "metadata": {
    "colab": {},
    "colab_type": "code",
    "id": "0iREinP3Cc-1"
   },
   "outputs": [],
   "source": [
    "\n",
    "# acediendo ciertos datos\n",
    "df['A']\n",
    "df[1:3]\n",
    "df[df.A > 0]\n",
    "\n",
    "df.sort_values(by='B')\n",
    "\n"
   ]
  },
  {
   "cell_type": "code",
   "execution_count": 0,
   "metadata": {
    "colab": {},
    "colab_type": "code",
    "id": "MkX7HItaC1tM"
   },
   "outputs": [],
   "source": [
    "# toda la estadistica descriptiva\n",
    "\n",
    "df.describe()"
   ]
  },
  {
   "cell_type": "markdown",
   "metadata": {
    "colab_type": "text",
    "id": "vpoVY9CuVpV1"
   },
   "source": [
    "## Comprender los datos con estadísticas descriptivas\n",
    "Una vez que haya cargado sus datos en Python, debe poder entenderlos. Cuanto mejor pueda comprender sus datos, mejores y más precisos serán los modelos que puede construir.\n",
    "El primer paso para comprender sus datos es utilizar estadísticas descriptivas. \n",
    "\n",
    "**Ejercicio**\n",
    "\n",
    "- Realize un query sobre los datos que desea analizar con datos de precios de varios años\n",
    "- Revise la distribución de sus datos con la función [describe()](http://pandas.pydata.org/pandas-docs/stable/generated/pandas.DataFrame.describe.html#pandas.DataFrame.describe).\n",
    "- Calcule la correlación por pares entre sus variables usando la función [corr ()](http://pandas.pydata.org/pandas-docs/stable/generated/pandas.DataFrame.corr.html#pandas.DataFrame.corr) .\n",
    "\n",
    "[documentación](http://pandas.pydata.org/pandas-docs/stable/generated/pandas.DataFrame.html)\n",
    "\n",
    "\n",
    "\n"
   ]
  },
  {
   "cell_type": "code",
   "execution_count": 0,
   "metadata": {
    "colab": {},
    "colab_type": "code",
    "id": "E8nbRMhzVpVw"
   },
   "outputs": [],
   "source": [
    "import pandas as pd\n",
    "import sqlite3\n",
    "from IPython.display import display, HTML\n",
    "\n",
    "# Read sqlite query results into a pandas DataFrame\n",
    "con = sqlite3.connect(\"guia_fasecolda.sqlite\")\n",
    "\n",
    "#ESCRIBE LA CONSULTA DE LO QUE DESEAS ANALIZAR\n",
    "#df = pd.read_sql_query('SELECT Marca,Referencia1,Cilindraje,Peso,\"2015\",\"2016\",\"2017\" FROM carros where Cilindraje<1500 AND Cilindraje>1200 AND \"2015\">0;', con)\n",
    "df = pd.read_sql_query('SELECT * FROM carros', con)\n",
    "\n",
    "\n",
    "print(\"Total de memoria ram requerida \",df.memory_usage().sum())\n",
    "\n",
    "#estadistica descriptiva\n",
    "display(HTML(df.describe().to_html()))\n",
    "#correlación entre las columnas\n",
    "display(HTML(df.corr().to_html()))\n",
    "\n",
    "con.close()\n",
    "\n"
   ]
  },
  {
   "cell_type": "markdown",
   "metadata": {
    "colab_type": "text",
    "id": "HEgsy_N3DXh3"
   },
   "source": [
    "Como notaste en el ejemplo anterior Pandas permite conectarse directamente a la base de datos, tambien permite leer datos en multiples formatos [documentation](https://pandas.pydata.org/pandas-docs/stable/user_guide/io.html) , por ejemplo si yo quiero cargar los datos originales de FASECOLDA"
   ]
  },
  {
   "cell_type": "code",
   "execution_count": 0,
   "metadata": {
    "colab": {},
    "colab_type": "code",
    "id": "wy3UVO1dEC0E"
   },
   "outputs": [],
   "source": [
    "# Cargamos el archivo (solo en collaborative)\n",
    "from google.colab import files\n",
    "files.upload()"
   ]
  },
  {
   "cell_type": "code",
   "execution_count": 0,
   "metadata": {
    "colab": {},
    "colab_type": "code",
    "id": "wmqeI5MGD8D7"
   },
   "outputs": [],
   "source": [
    "\n",
    "data = pd.read_csv('guia_fasecolda.csv')\n",
    "print(\"Total de memoria ram requerida \",data.memory_usage().sum())\n",
    "\n",
    "\n",
    "print(data.columns)"
   ]
  },
  {
   "cell_type": "markdown",
   "metadata": {
    "colab_type": "text",
    "id": "VzyyYTaRVpVy"
   },
   "source": [
    "\n",
    "\n",
    "## Comprender los datos con visualización\n",
    "\n",
    "Debes dedicar tiempo a comprender mejor tus datos. Una segunda forma de mejorar su comprensión de sus datos es mediante el uso de técnicas de visualización de datos . Usar la representación en Python para comprender los atributos por sí solos y sus interacciones. Ejemplos:\n",
    "- Use la función hist () para crear un histograma de cada atributo.\n",
    "- Use la función plot (kind = 'box') para crear diagramas de caja y cajas de cada atributo.\n",
    "- Utilice la función  pandas.scatter_matrix() para crear gráficos de dispersión por pares de todos los atributos.\n",
    "\n",
    "Es importante agregar```% inline matplotlib```  en la primera línea de su código si desea que la imagen esté incrustada en el *notebook* de Júpiter.\n",
    "\n",
    "\n",
    "[pyplot](http://matplotlib.org/api/pyplot_api.html) es la mejor opción, claro que si trabajamos con Pandas, el tiene ya programada las graficas utlizando toda la información del dataset [ejemplo](https://pandas.pydata.org/pandas-docs/stable/10min.html#plotting)\n",
    "\n",
    "\n",
    "**Ejercicio ** \n",
    "\n",
    "- Cargar el dataset de Fasecolda suministrado en csv\n",
    "\n",
    "-  Comprenda sus datos usando la función `columns` para ver las filas\n",
    "-  Utilize diferentes criterios para filtrar los datos.\n",
    "-  utilize por lo menos tres funciones de pandas para describir los datos filtrados\n",
    "-  Guarde los datos filtrados\n",
    "-  Realize por lo menos tres graficas de los datos\n",
    "\n",
    "[Link de descarga](https://drive.google.com/file/d/1mPnVLno8uLF1bD1EQbIRVUmxk1c1BVc4/view?usp=sharing)\n"
   ]
  },
  {
   "cell_type": "code",
   "execution_count": 0,
   "metadata": {
    "colab": {},
    "colab_type": "code",
    "id": "tRTp5M0wVpVy"
   },
   "outputs": [],
   "source": [
    "# Load CSV using Pandas from URL\n",
    "import pandas as pd\n",
    "from IPython.display import display, HTML\n",
    "data = pd.read_csv('guia_fasecolda.csv')\n",
    "\n",
    "print(data.columns)\n",
    "\n",
    "#Realiza diferentes filtros sobre los datos y describelos\n",
    "\n",
    "\n",
    "\n",
    "# guarda los datos filtrados\n",
    "\n",
    "\n",
    "\n",
    "display(HTML((data.head().to_html())))\n",
    "#print(df[data['2015']>50000])\n"
   ]
  },
  {
   "cell_type": "code",
   "execution_count": 0,
   "metadata": {
    "colab": {},
    "colab_type": "code",
    "id": "hZm4TQoPVpV3"
   },
   "outputs": [],
   "source": [
    "\n",
    "%matplotlib inline\n",
    "import pandas as pd\n",
    "import matplotlib.pyplot as plt\n",
    "\n",
    "plt.figure()\n",
    "data[['Cilindraje','Peso']].plot(kind = 'box',ylim=(-1000,10000))\n",
    "plt.title('mi primera grafica')\n",
    "plt.show()\n",
    "\n"
   ]
  },
  {
   "cell_type": "markdown",
   "metadata": {
    "colab_type": "text",
    "id": "AZWrD9j-HNBV"
   },
   "source": [
    "## Conclusiones\n",
    "\n",
    "De acuerdo a este análisis previo de los datos sobre la base de datos de FASECOLDA, que preguntas harias de análisis de datos que puedan generar valor.\n",
    "\n",
    "Con que otra base de datos trabajarias para obtener valor de estos datos.\n",
    "\n",
    "Utilize por lo menos dos análisis del curso de estadistica y/o de visualización de datos  para este problema.\n",
    "\n",
    "Plantea una pregunta aprendizaje supervisado y otra de supervisado que pensarias genere valor sobre este dataset\n"
   ]
  }
 ],
 "metadata": {
  "colab": {
   "collapsed_sections": [
    "XpDZB-nQVpVp"
   ],
   "name": "Clase 1-blank-2020.ipynb",
   "provenance": [],
   "toc_visible": true
  },
  "kernelspec": {
   "display_name": "Python 3 (ipykernel)",
   "language": "python",
   "name": "python3"
  },
  "language_info": {
   "codemirror_mode": {
    "name": "ipython",
    "version": 3
   },
   "file_extension": ".py",
   "mimetype": "text/x-python",
   "name": "python",
   "nbconvert_exporter": "python",
   "pygments_lexer": "ipython3",
   "version": "3.9.7"
  }
 },
 "nbformat": 4,
 "nbformat_minor": 1
}
