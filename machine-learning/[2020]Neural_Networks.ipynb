{
  "nbformat": 4,
  "nbformat_minor": 0,
  "metadata": {
    "colab": {
      "name": "[2020]Neural Networks.ipynb",
      "provenance": [],
      "collapsed_sections": [],
      "toc_visible": true
    },
    "kernelspec": {
      "name": "python3",
      "display_name": "Python 3"
    },
    "accelerator": "GPU"
  },
  "cells": [
    {
      "cell_type": "markdown",
      "metadata": {
        "id": "PwGzjc6InpXi",
        "colab_type": "text"
      },
      "source": [
        "# Artificial Neural Networks\n",
        "\n",
        "## [Perceptron in 11 lines of code](https://iamtrask.github.io/2015/07/12/basic-python-network/)\n"
      ]
    },
    {
      "cell_type": "code",
      "metadata": {
        "id": "kQ8vuedUnpXn",
        "colab_type": "code",
        "outputId": "7554ab4b-ab1d-432b-cdfa-2865379ac13d",
        "colab": {
          "base_uri": "https://localhost:8080/",
          "height": 87
        }
      },
      "source": [
        "import numpy as np\n",
        "# input dataset\n",
        "X = np.array([ [0,0,1],[0,1,1],[1,0,1],[1,1,1] ])\n",
        "# output dataset\n",
        "y = np.array([[0,1,1,0]]).T\n",
        "\n",
        "np.random.seed(1)\n",
        "# initialize weights randomly with mean 0 \n",
        "#sin0 input layer weigths\n",
        "syn0 = 2*np.random.random((3,4)) - 1\n",
        "#sin1 output layer weigths\n",
        "syn1 = 2*np.random.random((4,1)) - 1\n",
        "for j in range(60000):\n",
        "    # forward propagation\n",
        "    l1 = 1/(1+np.exp(-(np.dot(X,syn0))))\n",
        "    l2 = 1/(1+np.exp(-(np.dot(l1,syn1))))\n",
        "    \n",
        "     # back propagation\n",
        "     # multiply how much we missed by the \n",
        "     # slope of the sigmoid at the values in l1\n",
        "    l2_delta = (y - l2)*(l2*(1-l2))\n",
        "    #apply chain rule the input layer\n",
        "    l1_delta = l2_delta.dot(syn1.T) * (l1 * (1-l1))\n",
        "    \n",
        "    #update weigths\n",
        "    syn1 += l1.T.dot(l2_delta)\n",
        "    syn0 += X.T.dot(l1_delta)\n",
        "    \n",
        "    # print mean square error\n",
        "    error=(y - l2)\n",
        "    #print(np.square(error).mean())\n",
        "\n",
        "#operation\n",
        "for i in range(4):\n",
        "    l1 = 1/(1+np.exp(-(np.dot(X[i,:],syn0))))\n",
        "    l2 = 1/(1+np.exp(-(np.dot(l1,syn1))))\n",
        "    print('desired',y[i],'obtained:',l2)\n",
        "\n"
      ],
      "execution_count": 0,
      "outputs": [
        {
          "output_type": "stream",
          "text": [
            "desired [0] obtained: [0.0026057]\n",
            "desired [1] obtained: [0.99672212]\n",
            "desired [1] obtained: [0.99701713]\n",
            "desired [0] obtained: [0.00386756]\n"
          ],
          "name": "stdout"
        }
      ]
    },
    {
      "cell_type": "markdown",
      "metadata": {
        "id": "fwG3MYLInpX2",
        "colab_type": "text"
      },
      "source": [
        "## Clasiffication with sci-kit\n",
        "[Multilayer perceptor in scikit](https://scikit-learn.org/stable/modules/neural_networks_supervised.html)\n",
        "\n",
        "\n",
        "\n",
        "\n"
      ]
    },
    {
      "cell_type": "code",
      "metadata": {
        "id": "A7MdmptznpX5",
        "colab_type": "code",
        "outputId": "5275ed8f-94af-4584-fcf3-dbdffb3a4ff9",
        "colab": {
          "base_uri": "https://localhost:8080/",
          "height": 228
        }
      },
      "source": [
        "from sklearn import datasets\n",
        "import matplotlib.pyplot as plt\n",
        "import numpy as np\n",
        "from sklearn.metrics import confusion_matrix\n",
        "#from sklearn.cross_validation import train_test_split\n",
        "# de acuerdo a la version scikit train_test_split puede ser\n",
        "from sklearn.model_selection import train_test_split,cross_val_score\n",
        "from sklearn.neural_network import MLPClassifier\n",
        "\n",
        "iris = datasets.load_iris()\n",
        "X = iris.data\n",
        "y = iris.target\n",
        "\n",
        "x_train,x_test, y_train, y_test  = train_test_split(X,y, test_size = 0.7, random_state=0 ) # remove random state o change it \n",
        "#TODO: normalize the data \n",
        "names=['MPL logistic','MPL tanh','MPL relu','MPL relu/SGD']\n",
        "clfs=[MLPClassifier(activation='logistic',max_iter=1000),\n",
        "      MLPClassifier(activation='tanh',max_iter=1000),\n",
        "      MLPClassifier(activation='relu',max_iter=1000),\n",
        "      MLPClassifier(activation='relu',solver='sgd',hidden_layer_sizes =(10,100,80),max_iter=10000)]\n",
        "\n",
        "for clf,name in zip(clfs,names):\n",
        "    print(name) \n",
        "    scores = cross_val_score(clf, x_train, y_train, cv=5,scoring='f1_weighted',n_jobs=-1)\n",
        "    print(scores)\n",
        "    print('mean {a:5.3f} standard desviation {b:5.3f}'.format(a=scores.mean(),b=scores.std()))\n",
        "    \n",
        "    \n",
        "    \n",
        "#scoring paramters\n",
        "#https://scikit-learn.org/stable/modules/model_evaluation.html#scoring-parameter\n",
        "#https://scikit-learn.org/stable/modules/generated/sklearn.metrics.f1_score.html#sklearn.metrics.f1_score\n",
        "    \n",
        "\n",
        "\n"
      ],
      "execution_count": 0,
      "outputs": [
        {
          "output_type": "stream",
          "text": [
            "MPL logistic\n",
            "[1.         0.87830688 0.89206349 1.         0.88571429]\n",
            "mean 0.931 standard desviation 0.056\n",
            "MPL tanh\n",
            "[1.         0.87830688 1.         1.         0.88571429]\n",
            "mean 0.953 standard desviation 0.058\n",
            "MPL relu\n",
            "[0.87830688 0.87830688 0.89206349 1.         0.88571429]\n",
            "mean 0.907 standard desviation 0.047\n",
            "MPL relu/SGD\n",
            "[0.87830688 0.87830688 0.89206349 1.         1.        ]\n",
            "mean 0.930 standard desviation 0.058\n"
          ],
          "name": "stdout"
        }
      ]
    },
    {
      "cell_type": "markdown",
      "metadata": {
        "id": "XbzYXnijnpYG",
        "colab_type": "text"
      },
      "source": [
        "## Regressor with Scikit"
      ]
    },
    {
      "cell_type": "markdown",
      "metadata": {
        "id": "XHZY8Zu0npYI",
        "colab_type": "text"
      },
      "source": [
        "## Testing Tensorflow \n",
        "\n",
        "Installing with anaconda [tensorflow](https://www.tensorflow.org/install/install_linux#InstallingAnaconda)\n"
      ]
    },
    {
      "cell_type": "code",
      "metadata": {
        "id": "h3OnYc9lnpYK",
        "colab_type": "code",
        "outputId": "a9b72712-605e-4c30-8372-7267cc5fb1d4",
        "colab": {
          "base_uri": "https://localhost:8080/",
          "height": 35
        }
      },
      "source": [
        "import tensorflow as tf\n",
        "msg = tf.constant('TensorFlow 2.0 Hello World')\n",
        "tf.print(msg)\n"
      ],
      "execution_count": 0,
      "outputs": [
        {
          "output_type": "stream",
          "text": [
            "TensorFlow 2.0 Hello World\n"
          ],
          "name": "stdout"
        }
      ]
    },
    {
      "cell_type": "markdown",
      "metadata": {
        "id": "GpilgDPanpYb",
        "colab_type": "text"
      },
      "source": [
        "## [LeNet-5  in TensorFlow with NMIST dataset]\n",
        "\n",
        "Based in [tensorflow sample](https://www.tensorflow.org/tutorials/layers) and [UDACITY](htttp://www.udacity.com) deep learning classes.\n",
        "\n",
        "A Guide to TF Layers: Building a Convolutional Neural Network\n",
        "\n",
        "The TensorFlow layers module provides a high-level API that makes it easy to construct a neural network. It provides methods that facilitate the creation of dense (fully connected) layers and convolutional layers, adding activation functions, and applying dropout regularization. In this tutorial, we gonna build a convolutional neural network model to recognize the handwritten digits in the MNIST data set.\n",
        "\n",
        "handwritten digits 0–9 from the MNIST data set\n",
        "\n",
        "The MNIST dataset comprises 60,000 training examples and 10,000 test examples of the handwritten digits 0–9, formatted as 28x28-pixel monochrome images.\n",
        "\n",
        "\n",
        "\n",
        "\n",
        "\n",
        "### Load data"
      ]
    },
    {
      "cell_type": "code",
      "metadata": {
        "scrolled": true,
        "id": "trXE4uBPnpYh",
        "colab_type": "code",
        "outputId": "5e480beb-8b26-48b2-a39f-c0dffff3b85a",
        "colab": {
          "base_uri": "https://localhost:8080/",
          "height": 356
        }
      },
      "source": [
        "\n",
        "from keras.datasets import mnist\n",
        "import matplotlib.pyplot as plt\n",
        "# load dataset\n",
        "(trainX, trainy), (testX, testy) = mnist.load_data()\n",
        "# summarize loaded dataset\n",
        "print('Train data: X=%s, y=%s' % (trainX.shape, trainy.shape))\n",
        "print('Test data: X=%s, y=%s' % (testX.shape, testy.shape))\n",
        "# plot first few images\n",
        "for i in range(9):\n",
        "\t# define subplot\n",
        "\tplt.subplot(330 + 1 + i)\n",
        "\t# plot raw pixel data\n",
        "\tplt.imshow(trainX[i], cmap=plt.get_cmap('gray'))\n",
        "# show the figure\n",
        "plt.show()"
      ],
      "execution_count": 0,
      "outputs": [
        {
          "output_type": "stream",
          "text": [
            "Using TensorFlow backend.\n"
          ],
          "name": "stderr"
        },
        {
          "output_type": "stream",
          "text": [
            "Downloading data from https://s3.amazonaws.com/img-datasets/mnist.npz\n",
            "11493376/11490434 [==============================] - 0s 0us/step\n",
            "Train data: X=(60000, 28, 28), y=(60000,)\n",
            "Test data: X=(10000, 28, 28), y=(10000,)\n"
          ],
          "name": "stdout"
        },
        {
          "output_type": "display_data",
          "data": {
            "image/png": "[encoded data removed]",
            "text/plain": [
              "<Figure size 432x288 with 9 Axes>"
            ]
          },
          "metadata": {
            "tags": [],
            "needs_background": "light"
          }
        }
      ]
    },
    {
      "cell_type": "markdown",
      "metadata": {
        "id": "1_ZmlsxeW_JC",
        "colab_type": "text"
      },
      "source": [
        "### Prepare data\n"
      ]
    },
    {
      "cell_type": "code",
      "metadata": {
        "id": "PqJScmkXW-sR",
        "colab_type": "code",
        "colab": {}
      },
      "source": [
        "from keras.utils import to_categorical\n",
        "def load_dataset():\n",
        "\t# load dataset\n",
        "\t(trainX, trainY), (testX, testY) = mnist.load_data()\n",
        "\t# reshape dataset to have a single channel\n",
        "\ttrainX = trainX.reshape((trainX.shape[0], 28, 28, 1))\n",
        "\ttestX = testX.reshape((testX.shape[0], 28, 28, 1))\n",
        "\t# one hot encode target values\n",
        "\ttrainY = to_categorical(trainY)\n",
        "\ttestY = to_categorical(testY)\n",
        "\treturn trainX, trainY, testX, testY\n",
        "\n",
        "# scale pixels\n",
        "def prep_pixels(train):\n",
        "\t# convert from integers to floats\n",
        "\ttrain_norm = train.astype('float32')\n",
        "\t# normalize to range 0-1\n",
        "\tnorm_image = train_norm / 255.0\n",
        "\t# return normalized images\n",
        "\treturn norm_image\n",
        "\n",
        "\t# load dataset\n",
        "trainX, trainY, testX, testY = load_dataset()\n",
        "\n",
        "\n",
        "\t# prepare pixel data\n",
        "trainX = prep_pixels(trainX)\n",
        "testX = prep_pixels(testX)\n",
        "\n",
        "# Reserve 10,000 samples for validation\n",
        "x_val = trainX[-10000:]\n",
        "y_val = trainY[-10000:]\n",
        "x_train = trainX[:-10000]\n",
        "y_train = trainY[:-10000]"
      ],
      "execution_count": 0,
      "outputs": []
    },
    {
      "cell_type": "markdown",
      "metadata": {
        "id": "9I_sU6FwnpYs",
        "colab_type": "text"
      },
      "source": [
        "### Model\n",
        "\n",
        "\n",
        "Building the CNN MNIST Classifier\n",
        "\n",
        "Let's build a model to classify the images in the MNIST dataset using the following CNN architecture:\n",
        "\n",
        "- Convolutional Layer #1: Applies 32 5x5 filters (extracting 5x5-pixel subregions), with ReLU activation function\n",
        "- Pooling Layer #1: Performs max pooling with a 2x2 filter and stride of 2 (which specifies that pooled regions do not overlap)\n",
        "- Convolutional Layer #2: Applies 16 5x5 filters, with ReLU activation function\n",
        "- Pooling Layer #2: Again, performs max pooling with a 2x2 filter and stride of 2\n",
        "- Dense Layer #1: 1,024 neurons, with dropout regularization (probability that any given element will be dropped during training)\n",
        "- Dense Layer #2 (Logits Layer): 10 neurons, one for each digit target class (0–9).\n",
        "\n",
        "\n",
        "![texto alternativo](https://https://miro.medium.com/max/1400/0*H9_eGAtkQXJXtkoK)\n"
      ]
    },
    {
      "cell_type": "code",
      "metadata": {
        "id": "09c6DQY9WqNH",
        "colab_type": "code",
        "colab": {}
      },
      "source": [
        "# Parameters\n",
        "learning_rate = 0.00001\n",
        "\n",
        "\n",
        "\n",
        "# Network Parameters\n",
        "input_shape=(28, 28, 1)\n",
        "n_classes = 10  # MNIST total classes (0-9 digits)\n"
      ],
      "execution_count": 0,
      "outputs": []
    },
    {
      "cell_type": "code",
      "metadata": {
        "id": "29T3PVo7npYx",
        "colab_type": "code",
        "outputId": "2d26db75-ffd3-440c-823b-8d5c10cd96bb",
        "colab": {
          "base_uri": "https://localhost:8080/",
          "height": 457
        }
      },
      "source": [
        "from tensorflow.keras import Model\n",
        "from tensorflow.keras.models import Sequential\n",
        "from tensorflow.keras.losses import categorical_crossentropy\n",
        "from tensorflow.keras.layers import Dense, Flatten, Conv2D, MaxPooling2D\n",
        "from tensorflow.keras.optimizers import SGD\n",
        "\n",
        "# define cnn model\n",
        "def define_model():\n",
        "  model = Sequential()\n",
        "  model.add(Conv2D(32, (5, 5), activation='relu', kernel_initializer='he_uniform', input_shape=input_shape))\n",
        "  model.add(MaxPooling2D(pool_size=(2, 2), strides=(2, 2), padding='valid'))\n",
        "  model.add(Conv2D(16, kernel_size=(5, 5), padding='valid', activation='relu'))\n",
        "  model.add(MaxPooling2D(pool_size=(2, 2), strides=(2, 2),padding='same'))\n",
        "  model.add(Flatten())\n",
        "  model.add(Dense(units=120, activation='relu', kernel_initializer='he_uniform'))\n",
        "  model.add(Dense(units=84, activation='relu', kernel_initializer='he_uniform'))\n",
        "  model.add(Dense(n_classes, activation='softmax'))\n",
        "\t# compile model\n",
        "  opt = SGD(lr=learning_rate, momentum=0.9)\n",
        "  model.compile(optimizer=opt, loss='categorical_crossentropy', metrics=['accuracy'])\n",
        "  return model\n",
        "\n",
        "model=define_model()\n",
        "print(model.summary())"
      ],
      "execution_count": 0,
      "outputs": [
        {
          "output_type": "stream",
          "text": [
            "Model: \"sequential\"\n",
            "_________________________________________________________________\n",
            "Layer (type)                 Output Shape              Param #   \n",
            "=================================================================\n",
            "conv2d (Conv2D)              (None, 24, 24, 32)        832       \n",
            "_________________________________________________________________\n",
            "max_pooling2d (MaxPooling2D) (None, 12, 12, 32)        0         \n",
            "_________________________________________________________________\n",
            "conv2d_1 (Conv2D)            (None, 8, 8, 16)          12816     \n",
            "_________________________________________________________________\n",
            "max_pooling2d_1 (MaxPooling2 (None, 4, 4, 16)          0         \n",
            "_________________________________________________________________\n",
            "flatten (Flatten)            (None, 256)               0         \n",
            "_________________________________________________________________\n",
            "dense (Dense)                (None, 120)               30840     \n",
            "_________________________________________________________________\n",
            "dense_1 (Dense)              (None, 84)                10164     \n",
            "_________________________________________________________________\n",
            "dense_2 (Dense)              (None, 10)                850       \n",
            "=================================================================\n",
            "Total params: 55,502\n",
            "Trainable params: 55,502\n",
            "Non-trainable params: 0\n",
            "_________________________________________________________________\n",
            "None\n"
          ],
          "name": "stdout"
        }
      ]
    },
    {
      "cell_type": "code",
      "metadata": {
        "id": "vx7Caq1sJVL6",
        "colab_type": "code",
        "colab": {}
      },
      "source": [
        "from tensorflow.keras.utils import plot_model\n",
        "plot_model(model, to_file='model.png')"
      ],
      "execution_count": 0,
      "outputs": []
    },
    {
      "cell_type": "markdown",
      "metadata": {
        "id": "DekssW-OnpY8",
        "colab_type": "text"
      },
      "source": [
        "### Training variables"
      ]
    },
    {
      "cell_type": "code",
      "metadata": {
        "id": "uxqi_8UynpY9",
        "colab_type": "code",
        "outputId": "5732215a-583e-41ce-b8cb-9d3075c62282",
        "colab": {
          "base_uri": "https://localhost:8080/",
          "height": 600
        }
      },
      "source": [
        "epochs = 15  # more epochs better\n",
        "batch_size =128\n",
        "# fit model\n",
        "history = model.fit(x_train, y_train, epochs=epochs, batch_size=batch_size, verbose=1,validation_data=(x_val, y_val))\n",
        "print('\\nhistory dict:', history.history)\n",
        "\n",
        "\n"
      ],
      "execution_count": 0,
      "outputs": [
        {
          "output_type": "stream",
          "text": [
            "Epoch 1/15\n",
            "391/391 [==============================] - 1s 4ms/step - loss: 0.4551 - accuracy: 0.8725 - val_loss: 0.4114 - val_accuracy: 0.8871\n",
            "Epoch 2/15\n",
            "391/391 [==============================] - 1s 4ms/step - loss: 0.4462 - accuracy: 0.8745 - val_loss: 0.4034 - val_accuracy: 0.8892\n",
            "Epoch 3/15\n",
            "391/391 [==============================] - 1s 4ms/step - loss: 0.4380 - accuracy: 0.8762 - val_loss: 0.3956 - val_accuracy: 0.8899\n",
            "Epoch 4/15\n",
            "391/391 [==============================] - 1s 4ms/step - loss: 0.4303 - accuracy: 0.8784 - val_loss: 0.3884 - val_accuracy: 0.8914\n",
            "Epoch 5/15\n",
            "391/391 [==============================] - 1s 4ms/step - loss: 0.4232 - accuracy: 0.8801 - val_loss: 0.3820 - val_accuracy: 0.8932\n",
            "Epoch 6/15\n",
            "391/391 [==============================] - 1s 4ms/step - loss: 0.4163 - accuracy: 0.8821 - val_loss: 0.3755 - val_accuracy: 0.8944\n",
            "Epoch 7/15\n",
            "391/391 [==============================] - 1s 4ms/step - loss: 0.4097 - accuracy: 0.8838 - val_loss: 0.3693 - val_accuracy: 0.8963\n",
            "Epoch 8/15\n",
            "391/391 [==============================] - 1s 4ms/step - loss: 0.4035 - accuracy: 0.8854 - val_loss: 0.3636 - val_accuracy: 0.8974\n",
            "Epoch 9/15\n",
            "391/391 [==============================] - 1s 4ms/step - loss: 0.3979 - accuracy: 0.8876 - val_loss: 0.3583 - val_accuracy: 0.8985\n",
            "Epoch 10/15\n",
            "391/391 [==============================] - 1s 4ms/step - loss: 0.3922 - accuracy: 0.8887 - val_loss: 0.3532 - val_accuracy: 0.8992\n",
            "Epoch 11/15\n",
            "391/391 [==============================] - 1s 4ms/step - loss: 0.3869 - accuracy: 0.8899 - val_loss: 0.3485 - val_accuracy: 0.9017\n",
            "Epoch 12/15\n",
            "391/391 [==============================] - 1s 4ms/step - loss: 0.3817 - accuracy: 0.8913 - val_loss: 0.3436 - val_accuracy: 0.9025\n",
            "Epoch 13/15\n",
            "391/391 [==============================] - 1s 4ms/step - loss: 0.3773 - accuracy: 0.8924 - val_loss: 0.3390 - val_accuracy: 0.9033\n",
            "Epoch 14/15\n",
            "391/391 [==============================] - 1s 4ms/step - loss: 0.3725 - accuracy: 0.8938 - val_loss: 0.3348 - val_accuracy: 0.9053\n",
            "Epoch 15/15\n",
            "391/391 [==============================] - 1s 4ms/step - loss: 0.3680 - accuracy: 0.8950 - val_loss: 0.3307 - val_accuracy: 0.9055\n",
            "\n",
            "history dict: {'loss': [0.4550616443157196, 0.44623976945877075, 0.4380381107330322, 0.43030858039855957, 0.4231570065021515, 0.41627568006515503, 0.40967410802841187, 0.40350669622421265, 0.3979271352291107, 0.3922015428543091, 0.38694626092910767, 0.3816964328289032, 0.37731873989105225, 0.3724595606327057, 0.3680347204208374], 'accuracy': [0.8724799752235413, 0.8744800090789795, 0.8761600255966187, 0.8784199953079224, 0.8801199793815613, 0.8821399807929993, 0.8838199973106384, 0.8854399919509888, 0.8876399993896484, 0.8886600136756897, 0.8899400234222412, 0.8913400173187256, 0.8924199938774109, 0.8938199877738953, 0.895039975643158], 'val_loss': [0.4114305078983307, 0.4033620059490204, 0.39560630917549133, 0.3883948028087616, 0.38197848200798035, 0.3755435347557068, 0.36930641531944275, 0.36356663703918457, 0.358289897441864, 0.35323208570480347, 0.3485073149204254, 0.3435591459274292, 0.33899012207984924, 0.33480772376060486, 0.33069634437561035], 'val_accuracy': [0.8870999813079834, 0.88919997215271, 0.8899000287055969, 0.8913999795913696, 0.8931999802589417, 0.8944000005722046, 0.8963000178337097, 0.8974000215530396, 0.8985000252723694, 0.8992000222206116, 0.9017000198364258, 0.9024999737739563, 0.9032999873161316, 0.9053000211715698, 0.9054999947547913]}\n"
          ],
          "name": "stdout"
        }
      ]
    },
    {
      "cell_type": "markdown",
      "metadata": {
        "id": "TXebnSJZUmxp",
        "colab_type": "text"
      },
      "source": [
        "We use a loss function to determine how far the predicted values deviate from the actual values in the training data"
      ]
    },
    {
      "cell_type": "code",
      "metadata": {
        "id": "kLOl5HBUnztn",
        "colab_type": "code",
        "outputId": "17a108ce-75eb-42e0-a2f7-96662b0fed1a",
        "colab": {
          "base_uri": "https://localhost:8080/",
          "height": 283
        }
      },
      "source": [
        "import matplotlib.pyplot as plt\n",
        "plt.plot(history.history['loss'])"
      ],
      "execution_count": 0,
      "outputs": [
        {
          "output_type": "execute_result",
          "data": {
            "text/plain": [
              "[<matplotlib.lines.Line2D at 0x7fc9b00c8d30>]"
            ]
          },
          "metadata": {
            "tags": []
          },
          "execution_count": 12
        },
        {
          "output_type": "display_data",
          "data": {
            "image/png": "[encoded data removed]",
            "text/plain": [
              "<Figure size 432x288 with 1 Axes>"
            ]
          },
          "metadata": {
            "tags": [],
            "needs_background": "light"
          }
        }
      ]
    },
    {
      "cell_type": "markdown",
      "metadata": {
        "id": "xlGrz6fcpFWJ",
        "colab_type": "text"
      },
      "source": [
        "### validate the model\n"
      ]
    },
    {
      "cell_type": "code",
      "metadata": {
        "id": "qnRHdkD3hmNL",
        "colab_type": "code",
        "outputId": "afe7cc24-e858-4c03-985b-5876f70cc8c9",
        "colab": {
          "base_uri": "https://localhost:8080/",
          "height": 52
        }
      },
      "source": [
        "model.save('final_model.h5')\n",
        "results = model.evaluate(testX, testY)\n",
        "\n",
        "print('test loss, test acc:', results)"
      ],
      "execution_count": 0,
      "outputs": [
        {
          "output_type": "stream",
          "text": [
            "313/313 [==============================] - 1s 2ms/step - loss: 0.3367 - accuracy: 0.9043\n",
            "test loss, test acc: [0.33666351437568665, 0.9042999744415283]\n"
          ],
          "name": "stdout"
        }
      ]
    },
    {
      "cell_type": "markdown",
      "metadata": {
        "id": "-Tr0Rer-svk2",
        "colab_type": "text"
      },
      "source": [
        "### Predict a value"
      ]
    },
    {
      "cell_type": "code",
      "metadata": {
        "id": "L6SQr8P7qISE",
        "colab_type": "code",
        "outputId": "2640958c-e81c-454c-ab9a-51a9bdf3dd89",
        "colab": {
          "base_uri": "https://localhost:8080/",
          "height": 369
        }
      },
      "source": [
        "import numpy as np\n",
        "\n",
        "np.set_printoptions(1)\n",
        "num=np.random.randint(testX.shape[0])\n",
        "\n",
        "predictions = model.predict(testX[num].reshape(1,28,28,1))\n",
        "print(predictions)\n",
        "print(\"predicted value\",np.argmax(predictions))\n",
        "\n",
        "# comparing the result\n",
        "print(\"expected value\",np.argmax(testY[num]))\n",
        "\n",
        "plt.imshow(trainX[num].reshape(28,28), cmap=plt.get_cmap('gray'))\n",
        "plt.title('image #'+str(num)+\" : \"+str(np.argmax(testY[num])))"
      ],
      "execution_count": 0,
      "outputs": [
        {
          "output_type": "stream",
          "text": [
            "[[1.3e-04 2.1e-03 1.4e-02 9.5e-01 3.7e-05 5.5e-03 3.7e-04 3.2e-04 2.5e-02\n",
            "  3.3e-04]]\n",
            "predicted value 3\n",
            "expected value 3\n"
          ],
          "name": "stdout"
        },
        {
          "output_type": "execute_result",
          "data": {
            "text/plain": [
              "Text(0.5, 1.0, 'image #753 : 3')"
            ]
          },
          "metadata": {
            "tags": []
          },
          "execution_count": 12
        },
        {
          "output_type": "display_data",
          "data": {
            "image/png": "[encoded data removed]",
            "text/plain": [
              "<Figure size 432x288 with 1 Axes>"
            ]
          },
          "metadata": {
            "tags": [],
            "needs_background": "light"
          }
        }
      ]
    },
    {
      "cell_type": "markdown",
      "metadata": {
        "id": "uisaGcgrnpZD",
        "colab_type": "text"
      },
      "source": [
        "### load the model and predict"
      ]
    },
    {
      "cell_type": "code",
      "metadata": {
        "id": "Axx13bD_npZN",
        "colab_type": "code",
        "colab": {}
      },
      "source": [
        "\n",
        "from tensorflow.keras.models import load_model\n",
        "\n",
        "new_model=load_model('final_model.h5')\n",
        "\n"
      ],
      "execution_count": 0,
      "outputs": []
    },
    {
      "cell_type": "markdown",
      "metadata": {
        "id": "1k76pvUXnpZc",
        "colab_type": "text"
      },
      "source": [
        "### Testing"
      ]
    },
    {
      "cell_type": "markdown",
      "metadata": {
        "id": "UUVGCWfaW7Dr",
        "colab_type": "text"
      },
      "source": [
        "We are going to augment the data translating the image form center,rotating or applying a zoom.\n",
        "\n",
        "This can be made by hand with [opencv](https://opencv-python-tutroals.readthedocs.io/en/latest/py_tutorials/py_tutorials.html)\n",
        "\n"
      ]
    },
    {
      "cell_type": "code",
      "metadata": {
        "id": "BBjGcUuhxzJC",
        "colab_type": "code",
        "colab": {}
      },
      "source": [
        "import numpy as np\n",
        "import cv2\n",
        "import random\n",
        "def play_with_image(img):\n",
        "            op=['trans -','trans +','rot -','rot +','zoom +']\n",
        "            rows,cols,c = img.shape\n",
        "            l=random.randint(0, 4)\n",
        "            if(l==0): # translate between -5 -1\n",
        "                x=random.randint(-5, -1)\n",
        "                y=random.randint(-5, -1)\n",
        "                M = np.float32([[1,0,x],[0,1,y]])\n",
        "                new_img = cv2.warpAffine(img,M,(cols,rows))\n",
        "            elif(l==1): # translate between 1 5\n",
        "                x=random.randint(1, 5)\n",
        "                y=random.randint(1, 5)\n",
        "                M = np.float32([[1,0,x],[0,1,y]])\n",
        "                new_img = cv2.warpAffine(img,M,(cols,rows))\n",
        "            elif(l==2): # rotate between -20 -3\n",
        "                r=random.randint(-20, -3)\n",
        "                M = cv2.getRotationMatrix2D((cols/2,rows/2),r,1)\n",
        "                new_img  = cv2.warpAffine(img,M,(cols,rows))\n",
        "            elif(l==3): # rotate between 3 20\n",
        "                r=random.randint(3, 20)\n",
        "                #print(r)\n",
        "                M = cv2.getRotationMatrix2D((cols/2,rows/2),r,1)\n",
        "                new_img  = cv2.warpAffine(img,M,(cols,rows))\n",
        "            elif(l==4): # zoom the image\n",
        "                x=random.randint(1, 6)*2\n",
        "                y=random.randint(1, 6)*2\n",
        "                new_img = cv2.resize(img,(rows+x, cols+y), interpolation = cv2.INTER_CUBIC)\n",
        "                #new_img = new_img[int(x/2.):-int(x/2.),int(y/2.):-int(y/2.)]\n",
        "                #new_img.reshape(28,28)\n",
        "                #print(new_img.shape)\n",
        "                new_img = new_img[:28,-28:]\n",
        "            return (new_img,op[l])"
      ],
      "execution_count": 0,
      "outputs": []
    },
    {
      "cell_type": "code",
      "metadata": {
        "colab_type": "code",
        "outputId": "3f79ab06-5530-4d24-a743-dd246229cc8f",
        "id": "wnNVa5lOopu-",
        "colab": {
          "base_uri": "https://localhost:8080/",
          "height": 819
        }
      },
      "source": [
        "import matplotlib.pyplot as plt\n",
        "import matplotlib.image as mpimg\n",
        "import numpy as np\n",
        "import cv2\n",
        "f = plt.figure(figsize=(15,15))\n",
        "wish=np.random.randint(testX.shape[0])\n",
        "\n",
        "\n",
        "#add noise\n",
        "\n",
        "stacked_img=trainX[wish].reshape(28,28,1)\n",
        "#stacked_img = np.stack((trainX[wish].reshape(28,28),)*3,2).reshape((28,28,3))\n",
        "predictions = new_model.predict(stacked_img.reshape(1,28,28,1))\n",
        "ax = f.add_subplot(3,4,1)\n",
        "ax.imshow(stacked_img.reshape(28,28), cmap=plt.get_cmap('gray'))\n",
        "ax.axis(\"off\")\n",
        "ax.set_title('#'+str(wish)+\" : \"+str(np.argmax(testY[wish]))+\" ? \"+str(np.argmax(predictions)))\n",
        "\n",
        "for i in range(2,13):\n",
        "  ax = f.add_subplot(3,4,i)\n",
        "  new_img,op=play_with_image(stacked_img)\n",
        "  predictions = new_model.predict(testX[wish].reshape(1,28,28,1))\n",
        "  ax.imshow(new_img.reshape(28,28), cmap=plt.get_cmap('gray'))\n",
        "  ax.axis(\"off\")\n",
        "  ax.set_title('#'+str(wish)+\" : \"+str(np.argmax(testY[wish]))+\" ? \"+str(np.argmax(predictions))+'\\n'+op)\n"
      ],
      "execution_count": 0,
      "outputs": [
        {
          "output_type": "display_data",
          "data": {
            "image/png": "[encoded data removed]",
            "text/plain": [
              "<Figure size 1080x1080 with 12 Axes>"
            ]
          },
          "metadata": {
            "tags": [],
            "needs_background": "light"
          }
        }
      ]
    },
    {
      "cell_type": "markdown",
      "metadata": {
        "id": "4ZsHmlVMWtsS",
        "colab_type": "text"
      },
      "source": [
        "Keras has an automatic class to make augmentation\n",
        "[Preprocessing](https://keras.io/preprocessing/image/)"
      ]
    },
    {
      "cell_type": "code",
      "metadata": {
        "id": "MmSdX4vynpZl",
        "colab_type": "code",
        "colab": {}
      },
      "source": [
        "from tensorflow.keras.preprocessing.image import ImageDataGenerator\n",
        "\n",
        "\n",
        "data_aug = ImageDataGenerator(\n",
        "rotation_range=10,\n",
        "zoom_range=0.15,\n",
        "width_shift_range=0.1,\n",
        "height_shift_range=0.1,\n",
        "shear_range=0.15,\n",
        "horizontal_flip=False,\n",
        "vertical_flip=False)\n",
        "\n",
        "\n",
        "# compute quantities required for featurewise normalization\n",
        "# (std, mean, and principal components if ZCA whitening is applied)\n",
        "data_aug.fit(testX)"
      ],
      "execution_count": 0,
      "outputs": []
    },
    {
      "cell_type": "code",
      "metadata": {
        "colab_type": "code",
        "outputId": "5b159019-0cd8-41ec-9ed8-85b2d2711b85",
        "id": "bnDqICXYUeIc",
        "colab": {
          "base_uri": "https://localhost:8080/",
          "height": 819
        }
      },
      "source": [
        "import matplotlib.pyplot as plt\n",
        "import matplotlib.image as mpimg\n",
        "import numpy as np\n",
        "\n",
        "\n",
        "\n",
        "f = plt.figure(figsize=(15,15))\n",
        "wish=np.random.randint(testX.shape[0])\n",
        "\n",
        "\n",
        "\n",
        "stacked_img=testX[wish].reshape(28,28,1)\n",
        "#stacked_img = np.stack((trainX[wish].reshape(28,28),)*3,2).reshape((28,28,3))\n",
        "predictions = new_model.predict(stacked_img.reshape(1,28,28,1))\n",
        "ax = f.add_subplot(3,4,1)\n",
        "ax.imshow(stacked_img.reshape(28,28), cmap=plt.get_cmap('gray'))\n",
        "ax.axis(\"off\")\n",
        "ax.set_title('#'+str(wish)+\" : \"+str(np.argmax(testY[wish]))+\" ? \"+str(np.argmax(predictions)))\n",
        "\n",
        "for i in range(2,13):\n",
        "  ax = f.add_subplot(3,4,i)\n",
        "  op=\"auto\"\n",
        "  new_img=data_aug.random_transform(stacked_img)\n",
        "  predictions = new_model.predict(testX[wish].reshape(1,28,28,1))\n",
        "  ax.imshow(new_img.reshape(28,28), cmap=plt.get_cmap('gray'))\n",
        "  ax.axis(\"off\")\n",
        "  ax.set_title('#'+str(wish)+\" : \"+str(np.argmax(testY[wish]))+\" ? \"+str(np.argmax(predictions))+'\\n'+op)\n"
      ],
      "execution_count": 0,
      "outputs": [
        {
          "output_type": "display_data",
          "data": {
            "image/png": "[encoded data removed]",
            "text/plain": [
              "<Figure size 1080x1080 with 12 Axes>"
            ]
          },
          "metadata": {
            "tags": [],
            "needs_background": "light"
          }
        }
      ]
    }
  ]
}