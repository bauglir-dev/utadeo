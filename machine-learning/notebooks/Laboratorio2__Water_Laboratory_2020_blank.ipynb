{
  "nbformat": 4,
  "nbformat_minor": 0,
  "metadata": {
    "colab": {
      "name": "Laboratorio2-_Water_Laboratory-2020_blank.ipynb",
      "provenance": [],
      "collapsed_sections": []
    },
    "kernelspec": {
      "display_name": "Python 3",
      "language": "python",
      "name": "python3"
    }
  },
  "cells": [
    {
      "cell_type": "markdown",
      "metadata": {
        "collapsed": true,
        "id": "JWK6I16_4wp7",
        "colab_type": "text"
      },
      "source": [
        "#  Linear Regression\n",
        "\n",
        "\n",
        "## Exercise (fictitious)\n",
        "\n",
        "Se tiene una serie de mediciones ($x$) de un conductímetro sobre un fluido y las mediciones ($y$) del mismo fluido que al ser analizadas por un espectrómetro de masas en un laboratorio genera la concentración de un elemento químico que determina la calidad del agua. Realizar un algoritmo un programa de ML capaz de estimar la concentración del elemento químico en nuevas muestras.\n",
        "\n",
        "Utilizar [LinearRegression](http://scikit-learn.org/stable/modules/generated/sklearn.linear_model.LinearRegression.html)\n",
        "\n",
        "\n",
        "\n"
      ]
    },
    {
      "cell_type": "markdown",
      "metadata": {
        "id": "bxrdul7J15v8",
        "colab_type": "text"
      },
      "source": [
        "### Understanding Data\n",
        "\n",
        "Descriptive analytics\n",
        "\n",
        "- What questions would you ask to understand the data?\n",
        "- What visualization tools to use?"
      ]
    },
    {
      "cell_type": "code",
      "metadata": {
        "id": "b_97qoUWkLte",
        "colab_type": "code",
        "outputId": "1233b78e-1d69-45e8-f5a6-85b391aabe8a",
        "colab": {
          "base_uri": "https://localhost:8080/",
          "height": 816
        }
      },
      "source": [
        "import pandas as pd\n",
        "import numpy as np\n",
        "from matplotlib import pyplot as plt\n",
        "from IPython.display import display, HTML\n",
        "\n",
        "\n",
        "# Analisis preliminar de datos\n",
        "\n",
        "df=pd.read_csv('https://docs.google.com/spreadsheets/d/1jWSsUNYeuokmw03_WH2_paQ_o_eo589l5CJ68H2ZJ7o/gviz/tq?tqx=out:csv&sheet=laboratorio_aguas')\n",
        "\n",
        "display(HTML(df.describe().to_html()))\n",
        "df[['X','y']].plot.box()\n",
        "df.plot.scatter(x='X',y='y')\n",
        "\n",
        "#plt.savefig('scatter.pdf',format='pdf')\n"
      ],
      "execution_count": 0,
      "outputs": [
        {
          "output_type": "display_data",
          "data": {
            "text/html": [
              "<table border=\"1\" class=\"dataframe\">\n",
              "  <thead>\n",
              "    <tr style=\"text-align: right;\">\n",
              "      <th></th>\n",
              "      <th>sample</th>\n",
              "      <th>X</th>\n",
              "      <th>y</th>\n",
              "    </tr>\n",
              "  </thead>\n",
              "  <tbody>\n",
              "    <tr>\n",
              "      <th>count</th>\n",
              "      <td>4000.000000</td>\n",
              "      <td>4000.000000</td>\n",
              "      <td>4000.000000</td>\n",
              "    </tr>\n",
              "    <tr>\n",
              "      <th>mean</th>\n",
              "      <td>1999.500000</td>\n",
              "      <td>-0.005000</td>\n",
              "      <td>32.158520</td>\n",
              "    </tr>\n",
              "    <tr>\n",
              "      <th>std</th>\n",
              "      <td>1154.844867</td>\n",
              "      <td>11.548449</td>\n",
              "      <td>22.767042</td>\n",
              "    </tr>\n",
              "    <tr>\n",
              "      <th>min</th>\n",
              "      <td>0.000000</td>\n",
              "      <td>-20.000000</td>\n",
              "      <td>-150.000000</td>\n",
              "    </tr>\n",
              "    <tr>\n",
              "      <th>25%</th>\n",
              "      <td>999.750000</td>\n",
              "      <td>-10.002500</td>\n",
              "      <td>14.446465</td>\n",
              "    </tr>\n",
              "    <tr>\n",
              "      <th>50%</th>\n",
              "      <td>1999.500000</td>\n",
              "      <td>-0.005000</td>\n",
              "      <td>31.890758</td>\n",
              "    </tr>\n",
              "    <tr>\n",
              "      <th>75%</th>\n",
              "      <td>2999.250000</td>\n",
              "      <td>9.992500</td>\n",
              "      <td>50.354628</td>\n",
              "    </tr>\n",
              "    <tr>\n",
              "      <th>max</th>\n",
              "      <td>3999.000000</td>\n",
              "      <td>19.990000</td>\n",
              "      <td>73.684404</td>\n",
              "    </tr>\n",
              "  </tbody>\n",
              "</table>"
            ],
            "text/plain": [
              "<IPython.core.display.HTML object>"
            ]
          },
          "metadata": {
            "tags": []
          }
        },
        {
          "output_type": "execute_result",
          "data": {
            "text/plain": [
              "<matplotlib.axes._subplots.AxesSubplot at 0x7ff738a68710>"
            ]
          },
          "metadata": {
            "tags": []
          },
          "execution_count": 4
        },
        {
          "output_type": "display_data",
          "data": {
            "image/png": "[encoded data removed]",
            "text/plain": [
              "<Figure size 432x288 with 1 Axes>"
            ]
          },
          "metadata": {
            "tags": []
          }
        },
        {
          "output_type": "display_data",
          "data": {
            "image/png": "[encoded data removed]",
            "text/plain": [
              "<Figure size 432x288 with 1 Axes>"
            ]
          },
          "metadata": {
            "tags": []
          }
        }
      ]
    },
    {
      "cell_type": "markdown",
      "metadata": {
        "id": "d8SVLsT_g4vY",
        "colab_type": "text"
      },
      "source": [
        "### Preparing the data\n",
        "\n",
        "\n",
        "**Clean Data**\n",
        "\n",
        "What Happen with the Outlier at -150?\n",
        "\n",
        "When machine give  -150.0 is because there occur some problem over the experiment"
      ]
    },
    {
      "cell_type": "code",
      "metadata": {
        "id": "v2bUqh9Vg4Dh",
        "colab_type": "code",
        "outputId": "9a9156ba-5397-49cd-da7e-dd7af32cf3f9",
        "colab": {
          "base_uri": "https://localhost:8080/",
          "height": 297
        }
      },
      "source": [
        "\n",
        "\n",
        "new_data=df\n",
        "\n",
        "#here obatin the new data cleaned\n",
        "new_data.plot.scatter(x='X',y='y')"
      ],
      "execution_count": 0,
      "outputs": [
        {
          "output_type": "execute_result",
          "data": {
            "text/plain": [
              "<matplotlib.axes._subplots.AxesSubplot at 0x7ff7361c4cc0>"
            ]
          },
          "metadata": {
            "tags": []
          },
          "execution_count": 5
        },
        {
          "output_type": "display_data",
          "data": {
            "image/png": "[encoded data removed]",
            "text/plain": [
              "<Figure size 432x288 with 1 Axes>"
            ]
          },
          "metadata": {
            "tags": []
          }
        }
      ]
    },
    {
      "cell_type": "markdown",
      "metadata": {
        "id": "8fYJ96VUyKpj",
        "colab_type": "text"
      },
      "source": [
        "#### Split training and text data\n",
        "\n",
        "Learning the parameters of a prediction function and testing it on the same data is a methodological mistake: a model that would just repeat the labels of the samples that it has just seen would have a perfect score but would fail to predict anything useful on yet-unseen data. This situation is called overfitting. To avoid it, it is common practice when performing a (supervised) machine learning experiment to hold out part of the available data as a test set X_test, y_test. Note that the word “experiment” is not intended to denote academic use only, because even in commercial settings machine learning usually starts out experimentally."
      ]
    },
    {
      "cell_type": "code",
      "metadata": {
        "id": "W2gK7DuPwJ58",
        "colab_type": "code",
        "colab": {}
      },
      "source": [
        "from sklearn import linear_model\n",
        "from sklearn.model_selection import train_test_split\n",
        "# split training and text data\n",
        "X=new_data['X'].values.reshape(-1,1)\n",
        "y=new_data['y'].values.reshape(-1,1)\n",
        "X_train, X_test, y_train, y_test = train_test_split(X, y, test_size=0.20, random_state=4200)"
      ],
      "execution_count": 0,
      "outputs": []
    },
    {
      "cell_type": "markdown",
      "metadata": {
        "id": "gfB6jO5ByV80",
        "colab_type": "text"
      },
      "source": [
        "### Modeling\n",
        "\n",
        "#### Train the model\n",
        "\n",
        "Train the model consist in  make  the optimization to obtain the long memory parameters of the model."
      ]
    },
    {
      "cell_type": "code",
      "metadata": {
        "id": "JXRybOtixmsV",
        "colab_type": "code",
        "outputId": "2515a991-fd6e-4a34-aadc-0bc74908f451",
        "colab": {
          "base_uri": "https://localhost:8080/",
          "height": 54
        }
      },
      "source": [
        "# Create linear regression object\n",
        "regr = linear_model.LinearRegression()\n",
        "#testing other linear alorithms\n",
        "\n",
        "\n",
        "# Train the model using the training sets (use the method fit)\n",
        "regr\n",
        "\n",
        "# The coefficients\n",
        "print('Coefficients: ', regr.coef_)\n",
        "print('Intercept: ', regr.intercept_)"
      ],
      "execution_count": 0,
      "outputs": [
        {
          "output_type": "stream",
          "text": [
            "Coefficients:  [[1.80357831]]\n",
            "Intercept:  [32.59926942]\n"
          ],
          "name": "stdout"
        }
      ]
    },
    {
      "cell_type": "markdown",
      "metadata": {
        "id": "eYWTnue2yaU-",
        "colab_type": "text"
      },
      "source": [
        "### Test the Model\n",
        "\n",
        "Can we generalize our model to work good with other data?"
      ]
    },
    {
      "cell_type": "code",
      "metadata": {
        "id": "kYMgc9rEx7_R",
        "colab_type": "code",
        "outputId": "ee7abc31-7dc8-4ca3-a215-7eaf665d622c",
        "colab": {
          "base_uri": "https://localhost:8080/",
          "height": 406
        }
      },
      "source": [
        "from sklearn.metrics import accuracy_score,median_absolute_error\n",
        "from sklearn.metrics import mean_squared_error, mean_absolute_error\n",
        "from sklearn.metrics import r2_score,mean_squared_log_error,explained_variance_score\n",
        "\n",
        "\n",
        "def test_model(X,y_test,regr):\n",
        "  #prediction\n",
        "  y_pred=regr.predict(X)\n",
        "  ##graficas\n",
        "\n",
        "  plt.scatter(X, y_test,  color='black')\n",
        "  plt.plot(X, y_pred, color='blue',linewidth=3)\n",
        "  plt.xlabel('input')\n",
        "  plt.ylabel('output')\n",
        "\n",
        "\n",
        "  # https://scikit-learn.org/stable/modules/model_evaluation.html#regression-metrics\n",
        "  print('{0:30} | {1:9.2f}'.format('regressor score', regr.score(X,y_test)))\n",
        "  print('{0:30} | {1:9.2f}'.format('Mean squared error', np.mean((y_pred - y_test) ** 2)))\n",
        "  print('{0:30} | {1:9.2f}'.format('mean_squared_error', mean_squared_error(y_test,y_pred)))\n",
        "  #print('{0:30} | {1:9.2f}'.format('mean_squared_log_error', mean_squared_log_error(y_test,y_pred)))\n",
        "  print('{0:30} | {1:9.2f}'.format('mean_absolute_error', mean_absolute_error(y_test,y_pred)))\n",
        "  print('{0:30} | {1:9.2f}'.format('median_absolute_error', median_absolute_error(y_test,y_pred)))\n",
        "  print('{0:30} | {1:9.2f}'.format('explained_variance_score', explained_variance_score(y_test,y_pred)))\n",
        "  print('{0:30} | {1:9.2f}'.format('r ^ 2 score', r2_score(y_test,y_pred)))\n",
        "\n",
        "  \n",
        "test_model(X_test,y_test,regr)"
      ],
      "execution_count": 0,
      "outputs": [
        {
          "output_type": "stream",
          "text": [
            "regressor score                |      0.99\n",
            "Mean squared error             |      4.17\n",
            "mean_squared_error             |      4.17\n",
            "mean_absolute_error            |      1.63\n",
            "median_absolute_error          |      1.38\n",
            "explained_variance_score       |      0.99\n",
            "r ^ 2 score                    |      0.99\n"
          ],
          "name": "stdout"
        },
        {
          "output_type": "display_data",
          "data": {
            "image/png": "[encoded data removed]",
            "text/plain": [
              "<Figure size 432x288 with 1 Axes>"
            ]
          },
          "metadata": {
            "tags": []
          }
        }
      ]
    },
    {
      "cell_type": "markdown",
      "metadata": {
        "id": "qjrdArTyy7Wj",
        "colab_type": "text"
      },
      "source": [
        "### Implementation\n",
        "\n",
        "\n",
        "How it is going to work inside the process and organization?"
      ]
    },
    {
      "cell_type": "code",
      "metadata": {
        "id": "hPxNDlH3y-Z1",
        "colab_type": "code",
        "colab": {}
      },
      "source": [
        "def conversor(x):\n",
        "  return regr.predict(x)\n"
      ],
      "execution_count": 0,
      "outputs": []
    },
    {
      "cell_type": "markdown",
      "metadata": {
        "id": "O1sjCSRm0Zu7",
        "colab_type": "text"
      },
      "source": [
        "**Version 2** Using [persistence](https://scikit-learn.org/stable/tutorial/basic/tutorial.html#model-persistence).\n",
        "\n",
        "Other way to generate persistence is to send the parameters of the models ``regr.coef_`` and ``regr.intercept_``, but some models has many parameters."
      ]
    },
    {
      "cell_type": "code",
      "metadata": {
        "id": "Rn2Y2U760bv1",
        "colab_type": "code",
        "colab": {}
      },
      "source": [
        "#saving the model (just one time after training)\n",
        "import pickle #for save the model\n",
        "\n",
        "name_file='lineardiabetes.pkl'\n",
        "myfile = open(name_file, 'wb')\n",
        "pickle.dump(regr,myfile)\n",
        "myfile.close()\n"
      ],
      "execution_count": 0,
      "outputs": []
    },
    {
      "cell_type": "code",
      "metadata": {
        "id": "nHyyXA8705aj",
        "colab_type": "code",
        "colab": {}
      },
      "source": [
        "import pickle #for save the model\n",
        "def conversor(x,model_file):\n",
        "  # load the model with the trained model \n",
        "  ## example, this function can be a web server in django \n",
        "  new_file = open(model_file, 'rb')\n",
        "  clf2 = pickle.load(new_file)\n",
        "  return clf2.predict(x)\n",
        "\n",
        "\n",
        "# after this point a lot of data engineering would be required..."
      ],
      "execution_count": 0,
      "outputs": []
    },
    {
      "cell_type": "markdown",
      "metadata": {
        "id": "TITnOtC73zsh",
        "colab_type": "text"
      },
      "source": [
        "## Is the better solution to use a linear regressor?\n",
        "\n",
        "When evaluating different settings (“hyperparameters”) for estimators or differents stimators, there exits the risk of overfitting on the test set because the selection of the model can be tweaked until the estimator performs optimally. This way, knowledge about the test set can “leak” into the model and evaluation metrics no longer report on generalization performance. To solve this problem, yet another part of the dataset can be held out as a so-called “validation set”: training proceeds on the training set, after which evaluation is done on the validation set, and when the experiment seems to be successful, final evaluation can be done on the test set.\n",
        "\n",
        "However, by partitioning the available data into three sets, we drastically reduce the number of samples which can be used for learning the model, and the results can depend on a particular random choice for the pair of (train, validation) sets.\n",
        "\n",
        "A solution to this problem is a procedure called cross-validation (CV for short). A test set should still be held out for final evaluation, but the validation set is no longer needed when doing CV. In the basic approach, called k-fold CV, the training set is split into k smaller sets (other approaches are described below, but generally follow the same principles). \n",
        "\n",
        "\n",
        "**Exercise**\n",
        "\n",
        "Cambiar el metodo de scoring y usar diferents tipos de regresores.\n"
      ]
    },
    {
      "cell_type": "code",
      "metadata": {
        "id": "OrsJoPFS5nb3",
        "colab_type": "code",
        "outputId": "0e01c7c0-882a-4bba-9272-c6f92d56ac07",
        "colab": {
          "base_uri": "https://localhost:8080/",
          "height": 295
        }
      },
      "source": [
        "from sklearn.neural_network import MLPRegressor\n",
        "from sklearn.model_selection import cross_val_score\n",
        "\n",
        "\n",
        "regressors = [linear_model.LinearRegression(),linear_model.Ridge(alpha=.7),\n",
        "              MLPRegressor(hidden_layer_sizes=(22,100,),activation='relu',max_iter=100000),\n",
        "              linear_model.RANSACRegressor(random_state=0)]\n",
        "names = ['lineal','ridge 0.7','MLP','RANSAC']\n",
        "#from https://scikit-learn.org/stable/modules/model_evaluation.html#scoring-parameter\n",
        "scoring =['explained_variance',\n",
        "          'neg_mean_absolute_error',\n",
        "          'neg_mean_squared_error',\n",
        "          'neg_mean_squared_log_error',\n",
        "          'neg_median_absolute_error',\n",
        "          'r2']\n",
        "\n",
        "\n",
        "\n",
        "for reg,name in zip(regressors,names):\n",
        "    scores = cross_val_score(reg, X_train, y_train.ravel(), scoring=scoring[5],\n",
        "                            cv=5)\n",
        "    print('--------------------------------------')\n",
        "    print('model {0:20} | score {1:20}'.format(name,scoring[5]))\n",
        "    print('mean {0:22.2f}| std   {1:<22.2f}'.format(scores.mean(),scores.std()))\n",
        "    print(\"Accuracy(95.7%): {0:23.2f} (+/- {1:.2f})\" .format(scores.mean(), scores.std() * 2))\n",
        "    \n"
      ],
      "execution_count": 0,
      "outputs": [
        {
          "output_type": "stream",
          "text": [
            "--------------------------------------\n",
            "model lineal               | score r2                  \n",
            "mean                   0.42| std   0.06                  \n",
            "Accuracy(95.7%):                    0.42 (+/- 0.12)\n",
            "--------------------------------------\n",
            "model ridge 0.7            | score r2                  \n",
            "mean                   0.42| std   0.06                  \n",
            "Accuracy(95.7%):                    0.42 (+/- 0.12)\n",
            "--------------------------------------\n",
            "model MLP                  | score r2                  \n",
            "mean                   0.42| std   0.06                  \n",
            "Accuracy(95.7%):                    0.42 (+/- 0.12)\n",
            "--------------------------------------\n",
            "model RANSAC               | score r2                  \n",
            "mean                   0.39| std   0.07                  \n",
            "Accuracy(95.7%):                    0.39 (+/- 0.14)\n"
          ],
          "name": "stdout"
        }
      ]
    },
    {
      "cell_type": "code",
      "metadata": {
        "id": "cJArZzma6Ys_",
        "colab_type": "code",
        "colab": {}
      },
      "source": [
        "    \n",
        "#after this point repeat test and implementation process whith the best model.\n",
        "model=regressors[2].fit(X_train,y_train.ravel())\n",
        "test_model(X_test,y_test,model)"
      ],
      "execution_count": 0,
      "outputs": []
    },
    {
      "cell_type": "markdown",
      "metadata": {
        "id": "0dKX5-VwCo9k",
        "colab_type": "text"
      },
      "source": [
        "Hyper-parameters are parameters that are not directly learnt within estimators. In scikit-learn they are passed as arguments to the constructor of the estimator classes. Typical examples include gamma for Ridge, alpha for Lasso, etc.  It is possible and recommended to search the hyper-parameter space for the best cross validation score.\n",
        "\n",
        "Any parameter provided when constructing an estimator may be optimized in this manner. Specifically, to find the names and current values for all parameters for a given estimator, use:\n",
        "\n",
        "estimator.get_params()\n",
        "\n",
        "Two generic approaches to sampling search candidates are provided in scikit-learn: for given values, [GridSearchCV](https://scikit-learn.org/stable/modules/generated/sklearn.model_selection.GridSearchCV.html#sklearn.model_selection.GridSearchCV) exhaustively considers all parameter combinations, while [RandomizedSearchCV](https://scikit-learn.org/stable/modules/generated/sklearn.model_selection.RandomizedSearchCV.html#sklearn.model_selection.RandomizedSearchCV) can sample a given number of candidates from a parameter space with a specified distribution.\n",
        "\n",
        "[More information](https://scikit-learn.org/stable/modules/grid_search.html)"
      ]
    },
    {
      "cell_type": "markdown",
      "metadata": {
        "id": "Au2IvAlaL8_k",
        "colab_type": "text"
      },
      "source": [
        "### presente sus conclusiones del ejercicio\n",
        "\n",
        "- ¿cuales serian las mejores variables de entrada para hacer la regresión y porque?\n",
        "- ¿Que puede concluir sobre la regresión?\n",
        "- ¿que técnicas de visualización o muestra de resultados aplicaría?"
      ]
    },
    {
      "cell_type": "markdown",
      "metadata": {
        "id": "EQsLLexCHb_d",
        "colab_type": "text"
      },
      "source": [
        "## Base de datos Fasecolda\n",
        "\n"
      ]
    },
    {
      "cell_type": "code",
      "metadata": {
        "id": "b53rncTcHfLt",
        "colab_type": "code",
        "colab": {}
      },
      "source": [
        "# Load CSV using Pandas from URL\n",
        "import pandas as pd\n",
        "from IPython.display import display, HTML\n",
        "\n",
        "data = pd.read_csv('guia_fasecolda.csv')"
      ],
      "execution_count": 0,
      "outputs": []
    }
  ]
}