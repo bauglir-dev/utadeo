{
  "nbformat": 4,
  "nbformat_minor": 0,
  "metadata": {
    "colab": {
      "name": "-Boston_price_of houses-2020_blank.ipynb",
      "provenance": [],
      "collapsed_sections": []
    },
    "kernelspec": {
      "display_name": "Python 3",
      "language": "python",
      "name": "python3"
    }
  },
  "cells": [
    {
      "cell_type": "code",
      "metadata": {
        "id": "M6npwLt4pbGw",
        "colab_type": "code",
        "colab": {}
      },
      "source": [
        "import pandas as pd\n",
        "import numpy as np\n",
        "from matplotlib import pyplot as plt\n",
        "from IPython.display import display, HTML\n",
        "import matplotlib\n",
        "matplotlib.rcParams.update({'font.size': 12})\n",
        "from sklearn.datasets import load_boston\n",
        "from sklearn.model_selection import train_test_split\n",
        "from sklearn.linear_model import LinearRegression\n",
        "from sklearn.linear_model import Ridge\n",
        "from sklearn.linear_model import Lasso"
      ],
      "execution_count": 0,
      "outputs": []
    },
    {
      "cell_type": "markdown",
      "metadata": {
        "collapsed": true,
        "id": "JWK6I16_4wp7",
        "colab_type": "text"
      },
      "source": [
        "#  Linear Regression\n",
        "\n",
        "\n",
        "## Exercise \n",
        "\n",
        "This dataset contains information collected by the U.S Census Service concerning housing in the area of Boston Mass. It was obtained from the StatLib archive (http://lib.stat.cmu.edu/datasets/boston), and has been used extensively throughout the literature to benchmark algorithms. However, these comparisons were primarily done outside of Delve and are thus somewhat suspect. The dataset is small in size with only 506 cases.\n",
        "\n",
        "Utilizar [LinearRegression](http://scikit-learn.org/stable/modules/generated/sklearn.linear_model.LinearRegression.html)\n",
        "\n",
        "\n",
        "\n"
      ]
    },
    {
      "cell_type": "markdown",
      "metadata": {
        "id": "bxrdul7J15v8",
        "colab_type": "text"
      },
      "source": [
        "### Understanding Data\n",
        "\n",
        "- CRIM - per capita crime rate by town\n",
        "- ZN - proportion of residential land zoned for lots over 25,000 sq.ft.\n",
        "- INDUS - proportion of non-retail business acres per town.\n",
        "- CHAS - Charles River dummy variable (1 if tract bounds river; 0 otherwise)\n",
        "- NOX - nitric oxides concentration (parts per 10 million)\n",
        "- RM - average number of rooms per dwelling\n",
        "- AGE - proportion of owner-occupied units built prior to 1940\n",
        "- DIS - weighted distances to five Boston employment centres\n",
        "- RAD - index of accessibility to radial highways\n",
        "- TAX - full-value property-tax rate per us\\$10,000\n",
        "- PTRATIO - pupil-teacher ratio by town\n",
        "- B  $1000(Bk - 0.63)^2$ where Bk is the proportion of blacks by town\n",
        "- LSTAT - % lower status of the population\n",
        "- MEDV - Median value of owner-occupied homes in us\\$1000's\n",
        "\n",
        "Descriptive analytics\n",
        "\n",
        "- What questions would you ask to understand the data?\n",
        "- What visualization tools to use?"
      ]
    },
    {
      "cell_type": "code",
      "metadata": {
        "id": "b_97qoUWkLte",
        "colab_type": "code",
        "colab": {}
      },
      "source": [
        "\n",
        "boston=load_boston()\n",
        "boston_df=pd.DataFrame(boston.data,columns=boston.feature_names)\n",
        "\n",
        "print(boston.data.shape) #get (numer of rows, number of columns or 'features')\n",
        "print(boston.DESCR) #get a description of the dataset\n",
        "boston_df.describe()"
      ],
      "execution_count": 0,
      "outputs": []
    },
    {
      "cell_type": "code",
      "metadata": {
        "id": "OcAjwW9vzCvp",
        "colab_type": "code",
        "colab": {}
      },
      "source": [
        "boston_df.plot.box(figsize=(20,10))"
      ],
      "execution_count": 0,
      "outputs": []
    },
    {
      "cell_type": "markdown",
      "metadata": {
        "id": "d8SVLsT_g4vY",
        "colab_type": "text"
      },
      "source": [
        "### Preparing the data\n",
        "\n"
      ]
    },
    {
      "cell_type": "code",
      "metadata": {
        "id": "v2bUqh9Vg4Dh",
        "colab_type": "code",
        "colab": {}
      },
      "source": [
        "# add another column that contains the house prices which in scikit learn datasets are considered as target\n",
        "boston_df['Price']=boston.target\n",
        "boston_df.head(3)"
      ],
      "execution_count": 0,
      "outputs": []
    },
    {
      "cell_type": "markdown",
      "metadata": {
        "id": "8fYJ96VUyKpj",
        "colab_type": "text"
      },
      "source": [
        "#### Split training and text data\n",
        "\n",
        "Learning the parameters of a prediction function and testing it on the same data is a methodological mistake: a model that would just repeat the labels of the samples that it has just seen would have a perfect score but would fail to predict anything useful on yet-unseen data. This situation is called overfitting. To avoid it, it is common practice when performing a (supervised) machine learning experiment to hold out part of the available data as a test set X_test, y_test. Note that the word “experiment” is not intended to denote academic use only, because even in commercial settings machine learning usually starts out experimentally."
      ]
    },
    {
      "cell_type": "code",
      "metadata": {
        "id": "W2gK7DuPwJ58",
        "colab_type": "code",
        "colab": {}
      },
      "source": [
        "\n",
        "# split training and text data\n",
        "X=boston_df.drop('Price',axis=1)\n",
        "y=boston_df['Price']\n",
        "\n",
        "X_train, X_test, y_train, y_test = train_test_split(X, y, test_size=0.25, random_state=1212)"
      ],
      "execution_count": 0,
      "outputs": []
    },
    {
      "cell_type": "markdown",
      "metadata": {
        "id": "gfB6jO5ByV80",
        "colab_type": "text"
      },
      "source": [
        "### Modeling\n",
        "\n",
        "#### Train the model\n",
        "\n",
        "Train the models consist in  make  the optimization to obtain the long memory paramters of the model."
      ]
    },
    {
      "cell_type": "code",
      "metadata": {
        "id": "JXRybOtixmsV",
        "colab_type": "code",
        "colab": {}
      },
      "source": [
        "# Create linear regressor object (in an array to train all)\n",
        "models = [linear_model.LinearRegression(),Ridge(alpha=0.01),Ridge(alpha=100),Lasso(alpha=0.001, max_iter=10e5),Lasso(alpha=0.7, max_iter=10e5)]\n",
        "\n",
        "\n",
        "for regr in models:\n",
        "  regr.fit(X_train, y_train)\n",
        "  # The coefficients\n",
        "  print('Coefficients: ', regr.coef_)\n",
        "  print('Intercept: ', regr.intercept_)\n",
        "\n"
      ],
      "execution_count": 0,
      "outputs": []
    },
    {
      "cell_type": "markdown",
      "metadata": {
        "id": "o-zXy7ydFvSI",
        "colab_type": "text"
      },
      "source": [
        "Understanding the difference"
      ]
    },
    {
      "cell_type": "code",
      "metadata": {
        "id": "tsfMWH17FyM1",
        "colab_type": "code",
        "colab": {}
      },
      "source": [
        "names=['Linear Regression',r'Ridge; $\\alpha = 0.01$',r'Ridge; $\\alpha = 100$',r'Lasso, $\\alpha = 0.001$',r'Lasso, $\\alpha = 0.7$']\n",
        "markers=['d','o','*','+','<','>']\n",
        "plt.figure(figsize=(20,10))\n",
        "for i in range(0,len(names)):\n",
        "  plt.plot(X.columns,models[i].coef_,alpha=0.7,linestyle='none',marker=markers[i],markersize=5,label=names[i])\n",
        "plt.xlabel('feature',fontsize=16)\n",
        "plt.ylabel('Coefficient Magnitude',fontsize=16)\n",
        "plt.legend(fontsize=13,loc=1)\n",
        "plt.show()\n"
      ],
      "execution_count": 0,
      "outputs": []
    },
    {
      "cell_type": "markdown",
      "metadata": {
        "id": "AdUFbMvdsHBL",
        "colab_type": "text"
      },
      "source": [
        "## Which is the best model?\n",
        "\n",
        "When evaluating different settings (“hyperparameters”) for estimators or differents models, there are the risk of overfitting on the test set because the selection of the model can be tweaked until the estimator performs optimally. This way, knowledge about the test set can “leak” into the model and evaluation metrics no longer report on generalization performance. To solve this problem, yet another part of the dataset can be held out as a so-called “validation set”: training proceeds on the training set, after which evaluation is done on the validation set, and when the experiment seems to be successful, final evaluation can be done on the test set.\n",
        "\n",
        "However, by partitioning the available data into three sets, we drastically reduce the number of samples which can be used for learning the model, and the results can depend on a particular random choice for the pair of (train, validation) sets.\n",
        "\n",
        "A solution to this problem is a procedure called cross-validation (CV for short). A test set should still be held out for final evaluation, but the validation set is no longer needed when doing CV. In the basic approach, called k-fold CV, the training set is split into k smaller sets (other approaches are described below, but generally follow the same principles). "
      ]
    },
    {
      "cell_type": "markdown",
      "metadata": {
        "id": "0dKX5-VwCo9k",
        "colab_type": "text"
      },
      "source": [
        "Hyper-parameters are parameters that are not directly learnt within estimators. In scikit-learn they are passed as arguments to the constructor of the estimator classes. Typical examples include gamma for Ridge, alpha for Lasso, etc.  It is possible and recommended to search the hyper-parameter space for the best cross validation score.\n",
        "\n",
        "Any parameter provided when constructing an estimator may be optimized in this manner. Specifically, to find the names and current values for all parameters for a given estimator, use:\n",
        "\n",
        "estimator.get_params()\n",
        "\n",
        "Two generic approaches to sampling search candidates are provided in scikit-learn: for given values, [GridSearchCV](https://scikit-learn.org/stable/modules/generated/sklearn.model_selection.GridSearchCV.html#sklearn.model_selection.GridSearchCV) exhaustively considers all parameter combinations, while [RandomizedSearchCV](https://scikit-learn.org/stable/modules/generated/sklearn.model_selection.RandomizedSearchCV.html#sklearn.model_selection.RandomizedSearchCV) can sample a given number of candidates from a parameter space with a specified distribution.\n",
        "\n",
        "[More information](https://scikit-learn.org/stable/modules/grid_search.html)"
      ]
    },
    {
      "cell_type": "code",
      "metadata": {
        "id": "eMi2iioer25q",
        "colab_type": "code",
        "colab": {}
      },
      "source": [
        "\n",
        "from sklearn.model_selection import cross_val_score\n",
        "\n",
        "#from https://scikit-learn.org/stable/modules/model_evaluation.html#scoring-parameter\n",
        "scoring =['explained_variance',\n",
        "          'neg_mean_absolute_error',\n",
        "          'neg_mean_squared_error',\n",
        "          'neg_mean_squared_log_error',\n",
        "          'neg_median_absolute_error',\n",
        "          'r2']\n",
        "\n",
        "for reg,name in zip(models,names):\n",
        "    scores = cross_val_score(reg, X_train, y_train.ravel(), scoring=scoring[5],\n",
        "                            cv=5)\n",
        "    print('--------------------------------------')\n",
        "    print('model {0:20} | score {1:20}'.format(name,scoring[5]))\n",
        "    print('mean {0:22.2f}| std   {1:<22.2f}'.format(scores.mean(),scores.std()))"
      ],
      "execution_count": 0,
      "outputs": []
    },
    {
      "cell_type": "markdown",
      "metadata": {
        "id": "y8qPwbu5HJhL",
        "colab_type": "text"
      },
      "source": [
        "## Exercise (try other models)\n",
        "\n",
        "Try to use [Elastic-NET](https://scikit-learn.org/stable/modules/generated/sklearn.linear_model.ElasticNet.html), [RANSAC](https://scikit-learn.org/stable/modules/generated/sklearn.linear_model.RANSACRegressor.html) and [MLPRegressor](https://scikit-learn.org/stable/modules/generated/sklearn.neural_network.MLPRegressor.html)\n"
      ]
    },
    {
      "cell_type": "code",
      "metadata": {
        "id": "bHb5ZFVGhLOI",
        "colab_type": "code",
        "colab": {}
      },
      "source": [
        ""
      ],
      "execution_count": 0,
      "outputs": []
    },
    {
      "cell_type": "markdown",
      "metadata": {
        "id": "eYWTnue2yaU-",
        "colab_type": "text"
      },
      "source": [
        "### Test the Model\n",
        "\n",
        "Can we generalize our model to work good with other data?"
      ]
    },
    {
      "cell_type": "code",
      "metadata": {
        "id": "kYMgc9rEx7_R",
        "colab_type": "code",
        "colab": {}
      },
      "source": [
        "from sklearn.metrics import accuracy_score,median_absolute_error\n",
        "from sklearn.metrics import mean_squared_error, mean_absolute_error\n",
        "from sklearn.metrics import r2_score,mean_squared_log_error,explained_variance_score\n",
        "\n",
        "\n",
        "def test_model(X,y_test,regr):\n",
        "  #prediction\n",
        "  y_pred=regr.predict(X)\n",
        "  ##graficas\n",
        "  plt.scatter(y_pred, y_test,  color='black')\n",
        "  plt.xlabel('expected value')\n",
        "  plt.ylabel('Predicted value')\n",
        "  plt.title(\"Predicted Price vs Actual Price: $Y_i$ vs $\\hat{Y}_i$\")\n",
        "  plt.grid(True)\n",
        "  # https://scikit-learn.org/stable/modules/model_evaluation.html#regression-metrics\n",
        "  print('{0:30} | {1:9.2f}'.format('regressor score', regr.score(X,y_test)))\n",
        "  print('{0:30} | {1:9.2f}'.format('Mean squared error', np.mean((y_pred - y_test) ** 2)))\n",
        "  print('{0:30} | {1:9.2f}'.format('mean_squared_error', mean_squared_error(y_test,y_pred)))\n",
        "  print('{0:30} | {1:9.2f}'.format('mean_absolute_error', mean_absolute_error(y_test,y_pred)))\n",
        "  print('{0:30} | {1:9.2f}'.format('median_absolute_error', median_absolute_error(y_test,y_pred)))\n",
        "  print('{0:30} | {1:9.2f}'.format('explained_variance_score', explained_variance_score(y_test,y_pred)))\n",
        "  print('{0:30} | {1:9.2f}'.format('r ^ 2 score', r2_score(y_test,y_pred)))\n",
        "\n",
        "models[0].fit(X_train,y_train)  \n",
        "test_model(X_test,y_test,models[0])"
      ],
      "execution_count": 0,
      "outputs": []
    },
    {
      "cell_type": "markdown",
      "metadata": {
        "id": "qjrdArTyy7Wj",
        "colab_type": "text"
      },
      "source": [
        "### Implementation\n",
        "\n",
        "\n",
        "How it is going to work inside the process and organization?"
      ]
    },
    {
      "cell_type": "code",
      "metadata": {
        "id": "hPxNDlH3y-Z1",
        "colab_type": "code",
        "colab": {}
      },
      "source": [
        "\n"
      ],
      "execution_count": 0,
      "outputs": []
    },
    {
      "cell_type": "markdown",
      "metadata": {
        "id": "EQsLLexCHb_d",
        "colab_type": "text"
      },
      "source": [
        "## Ejercicio (Base de datos Fasecolda)\n",
        "\n",
        "A partir de la comprensión inicial de los datos de Fasecolda (ejercicio 1)\n",
        "\n",
        "- - ¿cuales serian las mejores variables de entrada para hacer la regresión y porque?\n",
        "- ¿Que otras fuentes de información utilizaría para para mejorar la predicción realizada?\n",
        "\n",
        "- Que transformaciones requiere realizar sobre los datos\n",
        "\n",
        "- Que ejercicio de regresión realizaria con los datos de los vehiculos presentados por Fasecolda?\n",
        "\n",
        "- Seria util realizar una regresión de Lasso? por que?\n",
        "\n",
        "- ¿que técnicas de visualización o muestra de resultados aplicaría?\n",
        "\n",
        "\n",
        "\n",
        "\n",
        "\n",
        "\n",
        "\n",
        "\n"
      ]
    },
    {
      "cell_type": "code",
      "metadata": {
        "id": "b53rncTcHfLt",
        "colab_type": "code",
        "colab": {}
      },
      "source": [
        "# Load CSV using Pandas from URL\n",
        "import pandas as pd\n",
        "from IPython.display import display, HTML\n",
        "\n",
        "data = pd.read_csv('guia_fasecolda.csv')"
      ],
      "execution_count": 0,
      "outputs": []
    },
    {
      "cell_type": "markdown",
      "metadata": {
        "id": "Au2IvAlaL8_k",
        "colab_type": "text"
      },
      "source": [
        "## Presente sus conclusiones sobre regresiones\n",
        "\n",
        "\n",
        "\n",
        "Se recomienda subir el notebook a github\n"
      ]
    }
  ]
}